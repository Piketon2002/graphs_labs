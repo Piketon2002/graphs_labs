{
  "cells": [
    {
      "cell_type": "markdown",
      "source": [
        "## Лабораторная работа №1"
      ],
      "metadata": {
        "id": "odM4GGngn6FJ"
      }
    },
    {
      "cell_type": "code",
      "source": [
        "!pip install ogb"
      ],
      "metadata": {
        "colab": {
          "base_uri": "https://localhost:8080/"
        },
        "id": "4eK9FX3AuC9h",
        "outputId": "97549e37-ae2d-4e9f-eb81-876de0cdce2f"
      },
      "execution_count": 1,
      "outputs": [
        {
          "output_type": "stream",
          "name": "stdout",
          "text": [
            "Collecting ogb\n",
            "  Downloading ogb-1.3.6-py3-none-any.whl.metadata (6.2 kB)\n",
            "Requirement already satisfied: torch>=1.6.0 in /usr/local/lib/python3.10/dist-packages (from ogb) (2.5.0+cu121)\n",
            "Requirement already satisfied: numpy>=1.16.0 in /usr/local/lib/python3.10/dist-packages (from ogb) (1.26.4)\n",
            "Requirement already satisfied: tqdm>=4.29.0 in /usr/local/lib/python3.10/dist-packages (from ogb) (4.66.5)\n",
            "Requirement already satisfied: scikit-learn>=0.20.0 in /usr/local/lib/python3.10/dist-packages (from ogb) (1.5.2)\n",
            "Requirement already satisfied: pandas>=0.24.0 in /usr/local/lib/python3.10/dist-packages (from ogb) (2.2.2)\n",
            "Requirement already satisfied: six>=1.12.0 in /usr/local/lib/python3.10/dist-packages (from ogb) (1.16.0)\n",
            "Requirement already satisfied: urllib3>=1.24.0 in /usr/local/lib/python3.10/dist-packages (from ogb) (2.2.3)\n",
            "Collecting outdated>=0.2.0 (from ogb)\n",
            "  Downloading outdated-0.2.2-py2.py3-none-any.whl.metadata (4.7 kB)\n",
            "Requirement already satisfied: setuptools>=44 in /usr/local/lib/python3.10/dist-packages (from outdated>=0.2.0->ogb) (75.1.0)\n",
            "Collecting littleutils (from outdated>=0.2.0->ogb)\n",
            "  Downloading littleutils-0.2.4-py3-none-any.whl.metadata (679 bytes)\n",
            "Requirement already satisfied: requests in /usr/local/lib/python3.10/dist-packages (from outdated>=0.2.0->ogb) (2.32.3)\n",
            "Requirement already satisfied: python-dateutil>=2.8.2 in /usr/local/lib/python3.10/dist-packages (from pandas>=0.24.0->ogb) (2.8.2)\n",
            "Requirement already satisfied: pytz>=2020.1 in /usr/local/lib/python3.10/dist-packages (from pandas>=0.24.0->ogb) (2024.2)\n",
            "Requirement already satisfied: tzdata>=2022.7 in /usr/local/lib/python3.10/dist-packages (from pandas>=0.24.0->ogb) (2024.2)\n",
            "Requirement already satisfied: scipy>=1.6.0 in /usr/local/lib/python3.10/dist-packages (from scikit-learn>=0.20.0->ogb) (1.13.1)\n",
            "Requirement already satisfied: joblib>=1.2.0 in /usr/local/lib/python3.10/dist-packages (from scikit-learn>=0.20.0->ogb) (1.4.2)\n",
            "Requirement already satisfied: threadpoolctl>=3.1.0 in /usr/local/lib/python3.10/dist-packages (from scikit-learn>=0.20.0->ogb) (3.5.0)\n",
            "Requirement already satisfied: filelock in /usr/local/lib/python3.10/dist-packages (from torch>=1.6.0->ogb) (3.16.1)\n",
            "Requirement already satisfied: typing-extensions>=4.8.0 in /usr/local/lib/python3.10/dist-packages (from torch>=1.6.0->ogb) (4.12.2)\n",
            "Requirement already satisfied: networkx in /usr/local/lib/python3.10/dist-packages (from torch>=1.6.0->ogb) (3.4.2)\n",
            "Requirement already satisfied: jinja2 in /usr/local/lib/python3.10/dist-packages (from torch>=1.6.0->ogb) (3.1.4)\n",
            "Requirement already satisfied: fsspec in /usr/local/lib/python3.10/dist-packages (from torch>=1.6.0->ogb) (2024.6.1)\n",
            "Requirement already satisfied: sympy==1.13.1 in /usr/local/lib/python3.10/dist-packages (from torch>=1.6.0->ogb) (1.13.1)\n",
            "Requirement already satisfied: mpmath<1.4,>=1.1.0 in /usr/local/lib/python3.10/dist-packages (from sympy==1.13.1->torch>=1.6.0->ogb) (1.3.0)\n",
            "Requirement already satisfied: MarkupSafe>=2.0 in /usr/local/lib/python3.10/dist-packages (from jinja2->torch>=1.6.0->ogb) (3.0.2)\n",
            "Requirement already satisfied: charset-normalizer<4,>=2 in /usr/local/lib/python3.10/dist-packages (from requests->outdated>=0.2.0->ogb) (3.4.0)\n",
            "Requirement already satisfied: idna<4,>=2.5 in /usr/local/lib/python3.10/dist-packages (from requests->outdated>=0.2.0->ogb) (3.10)\n",
            "Requirement already satisfied: certifi>=2017.4.17 in /usr/local/lib/python3.10/dist-packages (from requests->outdated>=0.2.0->ogb) (2024.8.30)\n",
            "Downloading ogb-1.3.6-py3-none-any.whl (78 kB)\n",
            "\u001b[2K   \u001b[90m━━━━━━━━━━━━━━━━━━━━━━━━━━━━━━━━━━━━━━━━\u001b[0m \u001b[32m78.8/78.8 kB\u001b[0m \u001b[31m1.4 MB/s\u001b[0m eta \u001b[36m0:00:00\u001b[0m\n",
            "\u001b[?25hDownloading outdated-0.2.2-py2.py3-none-any.whl (7.5 kB)\n",
            "Downloading littleutils-0.2.4-py3-none-any.whl (8.1 kB)\n",
            "Installing collected packages: littleutils, outdated, ogb\n",
            "Successfully installed littleutils-0.2.4 ogb-1.3.6 outdated-0.2.2\n"
          ]
        }
      ]
    },
    {
      "cell_type": "code",
      "source": [
        "import networkx as nx\n",
        "import numpy as np\n",
        "from sklearn.metrics import accuracy_score, precision_score, recall_score\n",
        "from sklearn.model_selection import train_test_split, GridSearchCV\n",
        "from sklearn.svm import SVC\n",
        "from collections import Counter\n",
        "import random\n",
        "import os\n",
        "from ogb.graphproppred import GraphPropPredDataset\n",
        "from collections import defaultdict\n",
        "\n",
        "random.seed(0)\n",
        "np.random.seed(0)"
      ],
      "metadata": {
        "id": "Jy3grAKin_A1"
      },
      "execution_count": 2,
      "outputs": []
    },
    {
      "cell_type": "markdown",
      "metadata": {
        "id": "VMs9v463ZLwu"
      },
      "source": [
        "## Найти или сгенерировать набор данных для бинарной классификации графов.\n"
      ]
    },
    {
      "cell_type": "code",
      "execution_count": 3,
      "metadata": {
        "id": "X_7KJPauY6M0",
        "colab": {
          "base_uri": "https://localhost:8080/"
        },
        "outputId": "2cc6be7c-9987-4c94-c061-4914dfdc4299"
      },
      "outputs": [
        {
          "output_type": "stream",
          "name": "stdout",
          "text": [
            "Downloading http://snap.stanford.edu/ogb/data/graphproppred/csv_mol_download/hiv.zip\n"
          ]
        },
        {
          "output_type": "stream",
          "name": "stderr",
          "text": [
            "Downloaded 0.00 GB: 100%|██████████| 3/3 [00:01<00:00,  2.61it/s]\n"
          ]
        },
        {
          "output_type": "stream",
          "name": "stdout",
          "text": [
            "Extracting dataset/hiv.zip\n",
            "Loading necessary files...\n",
            "This might take a while.\n",
            "Processing graphs...\n"
          ]
        },
        {
          "output_type": "stream",
          "name": "stderr",
          "text": [
            "100%|██████████| 41127/41127 [00:01<00:00, 31456.02it/s]\n"
          ]
        },
        {
          "output_type": "stream",
          "name": "stdout",
          "text": [
            "Saving...\n",
            "Класс 0: 39684\n",
            "Класс 1: 1443\n"
          ]
        }
      ],
      "source": [
        "'''Загрузка датасета'''\n",
        "\n",
        "# dataset = LinkPropPredDataset(name='ogbl-ppa')\n",
        "\n",
        "# https://best-of-web.builder.io/library/snap-stanford/ogb\n",
        "data = GraphPropPredDataset(name='ogbg-molhiv')\n",
        "labels = data.labels.flatten()\n",
        "\n",
        "# посмотрим распределение целевой переменной\n",
        "print(f\"Класс 0: {len(labels[labels == 0])}\")\n",
        "print(f\"Класс 1: {len(labels[labels == 1])}\")\n",
        "\n",
        "# Преобразуем edge_index в граф networkx\n",
        "def convert_to_graph(edge_index):\n",
        "    edges = list(zip(edge_index[0], edge_index[1]))\n",
        "    G = nx.Graph()\n",
        "    G.add_edges_from(edges)\n",
        "    return G\n",
        "\n",
        "graphs = [convert_to_graph(graph['edge_index']) for graph, _ in data]"
      ]
    },
    {
      "cell_type": "code",
      "source": [
        "'''Визуализация по одному из графов каждого класса'''\n",
        "############## класс 0\n",
        "# первый граф с лейблом 0\n",
        "print('Для представителя класса 0:\\n')\n",
        "graph1_0 = data[np.where(labels == 0)[0][0]][0]\n",
        "\n",
        "# Свойства узлов и рёбер (по 3 узла и ребра)\n",
        "node_feat0, edge_feat0 = graph1_0['node_feat'], graph1_0['edge_feat']\n",
        "print(f\"Свойства первых 3 узлов:\\n {node_feat0[:3]}\")\n",
        "print(f\"Свойства первых 3 рёбер:\\n {edge_feat0[:3]}\")\n",
        "\n",
        "edges0 = list(zip(graph1_0['edge_index'][0], graph1_0['edge_index'][1]))\n",
        "Graph1_0 = nx.Graph()\n",
        "Graph1_0.add_edges_from(edges0)\n",
        "# nx.draw(Graph1_0, with_labels=True)\n",
        "\n",
        "#################### класс 1\n",
        "# первый граф с лейблом 0\n",
        "print('\\n\\nДля представителя класса 1:\\n')\n",
        "graph1_1 = data[np.where(labels == 1)[0][0]][0]\n",
        "\n",
        "# Свойства узлов и рёбер (по 3 узла и ребра)\n",
        "node_feat1, edge_feat1 = graph1_1['node_feat'], graph1_1['edge_feat']\n",
        "print(f\"Свойства первых 3 узлов:\\n {node_feat1[:3]}\")\n",
        "print(f\"Свойства первых 3 рёбер:\\n {edge_feat1[:3]}\")\n",
        "\n",
        "edges_1 = list(zip(graph1_0['edge_index'][0], graph1_1['edge_index'][1]))\n",
        "Graph1_1 = nx.Graph()\n",
        "Graph1_1.add_edges_from(edges_1)\n",
        "# nx.draw(Graph1_1, with_labels=True)\n",
        "\n",
        "# Рисуем оба графика на одном изображении\n",
        "import matplotlib.pyplot as plt\n",
        "fig, axes = plt.subplots(1, 2, figsize=(10, 5))\n",
        "\n",
        "nx.draw(Graph1_0, with_labels=True, ax=axes[0])\n",
        "axes[0].set_title('Класс 0')\n",
        "\n",
        "nx.draw(Graph1_1, with_labels=True, ax=axes[1])\n",
        "axes[1].set_title('Класс 1')\n",
        "\n",
        "plt.tight_layout()\n",
        "plt.show()"
      ],
      "metadata": {
        "colab": {
          "base_uri": "https://localhost:8080/",
          "height": 889
        },
        "id": "WrTJfazAunlE",
        "outputId": "da75df52-46a5-461e-b2c0-29caa21fad65"
      },
      "execution_count": 4,
      "outputs": [
        {
          "output_type": "stream",
          "name": "stdout",
          "text": [
            "Для представителя класса 0:\n",
            "\n",
            "Свойства первых 3 узлов:\n",
            " [[5 0 4 5 3 0 2 0 0]\n",
            " [5 0 4 5 2 0 2 0 0]\n",
            " [5 0 3 5 0 0 1 0 1]]\n",
            "Свойства первых 3 рёбер:\n",
            " [[0 0 0]\n",
            " [0 0 0]\n",
            " [0 0 0]]\n",
            "\n",
            "\n",
            "Для представителя класса 1:\n",
            "\n",
            "Свойства первых 3 узлов:\n",
            " [[7 0 1 5 0 0 1 0 0]\n",
            " [5 0 3 5 0 0 1 0 0]\n",
            " [7 0 2 5 1 0 1 0 0]]\n",
            "Свойства первых 3 рёбер:\n",
            " [[1 0 1]\n",
            " [1 0 1]\n",
            " [0 0 1]]\n"
          ]
        },
        {
          "output_type": "display_data",
          "data": {
            "text/plain": [
              "<Figure size 1000x500 with 2 Axes>"
            ],
            "image/png": "[encoded data removed]"
          },
          "metadata": {}
        }
      ]
    },
    {
      "cell_type": "markdown",
      "metadata": {
        "id": "cMtJpOv-CiPs"
      },
      "source": [
        "## Реализовать функцию `shortest_path_kernel(train_graphs, test_graphs)`\n",
        " которая принимает тренировочный и тестовые наборы, а возвращает пару `K_train, K_test`\n",
        "  - Опишите графы с помощью вектора из количества кратчайших путей различной длины\n",
        "  - Для вычисления длин кратчайших путей можно использовать `nx.shortest_path_length(G)`\n",
        "  - Ядровая функция для сравнения двух графов - скалярное произведение их двух векторов\n",
        "  - `K_train` - матрица из ядровых функций для сравнения тренировочных графов между собой\n",
        "  - `K_test` - матрица из ядровых функций для сравнения тестовых графов с тренировочными\n"
      ]
    },
    {
      "cell_type": "code",
      "source": [
        "# Граф -> вектор кратчейших путей\n",
        "def graph_to_shortest_path_vector(graph):\n",
        "    '''вычисление длины кратчайших путей между всеми парами узлов в графе'''\n",
        "    path_lengths = dict(nx.shortest_path_length(graph))\n",
        "\n",
        "    '''max длина кратчайшего пути'''\n",
        "    max_length = max(max(lengths.values()) for lengths in path_lengths.values() if lengths)\n",
        "\n",
        "    '''вектор кратчайших путей: индекс = длина пути, значение = количество путей такой длины'''\n",
        "    # инициализация\n",
        "    path_vector = np.zeros(max_length + 1)\n",
        "    # заполнение\n",
        "    for lengths in path_lengths.values():\n",
        "        for length in lengths.values():\n",
        "            path_vector[length] += 1\n",
        "\n",
        "    return path_vector\n",
        "\n",
        "\n",
        "def shortest_path_kernel(train_graphs, test_graphs):\n",
        "    '''все графы --> вектора кратчайших путей'''\n",
        "    train_vectors = [graph_to_shortest_path_vector(g) for g in train_graphs]\n",
        "    test_vectors = [graph_to_shortest_path_vector(g) for g in test_graphs]\n",
        "\n",
        "    '''Все имеющиеся векторы (train и test) приведем к одинаковой длине, заполнив недостающие данные нулями'''\n",
        "    max_len = max(\n",
        "                  max(len(vect) for vect in train_vectors),\n",
        "                  max(len(vect) for vect in test_vectors)\n",
        "                  )\n",
        "\n",
        "    train_vectors = np.array([np.pad(v, (0, max_len - len(v))) for v in train_vectors])\n",
        "    test_vectors = np.array([np.pad(v, (0, max_len - len(v))) for v in test_vectors])\n",
        "\n",
        "    '''расчет матрицы из ядровых функций'''\n",
        "    K_train, K_test = np.dot(train_vectors, train_vectors.T), np.dot(test_vectors, train_vectors.T)\n",
        "\n",
        "    return K_train, K_test\n"
      ],
      "metadata": {
        "id": "Ptle5fXs12pN"
      },
      "execution_count": 5,
      "outputs": []
    },
    {
      "cell_type": "code",
      "source": [
        "'''Отбираем по 1443 объектов каждого класса (всего 1443 объекта класса 1 => выберем так, чтобы было 50 на 50, баланс классов)'''\n",
        "class0_inds, class1_inds = np.where(labels == 0)[0], np.where(labels == 1)[0]\n",
        "class0_filtered, class1_filtered = class0_inds[:1443], class1_inds[:1443]\n",
        "\n",
        "selected_inds = np.concatenate([class0_filtered, class1_filtered])\n",
        "selected_graphs, selected_labels = [graphs[i] for i in selected_inds], labels[selected_inds]\n",
        "\n",
        "'''train/test деление'''\n",
        "train_graphs, test_graphs, y_train, y_test = train_test_split(selected_graphs, selected_labels, test_size=0.2, random_state=0)\n",
        "\n",
        "'''Вычисление матриц ядровых функций'''\n",
        "K_train1, K_test1 = shortest_path_kernel(train_graphs, test_graphs)\n",
        "\n",
        "# print(K_train1.shape)\n",
        "# print(K_test1.shape)\n"
      ],
      "metadata": {
        "id": "SYsa36D36LlJ"
      },
      "execution_count": 6,
      "outputs": []
    },
    {
      "cell_type": "markdown",
      "metadata": {
        "id": "8IekGyvrCwh0"
      },
      "source": [
        "## Используя реализованное ядро обучите модель SVC, подберите гиперпараметры, вычислите различные метрики качества"
      ]
    },
    {
      "cell_type": "code",
      "execution_count": 7,
      "metadata": {
        "colab": {
          "base_uri": "https://localhost:8080/"
        },
        "id": "qvtV6B9tmBnv",
        "outputId": "a4fb1b88-063e-4ed2-e669-c428d94c46d0"
      },
      "outputs": [
        {
          "output_type": "stream",
          "name": "stdout",
          "text": [
            "Fitting 3 folds for each of 6 candidates, totalling 18 fits\n",
            "[CV] END ..............................................C=0.1; total time=   5.4s\n",
            "[CV] END ..............................................C=0.1; total time=   5.1s\n",
            "[CV] END ..............................................C=0.1; total time=   4.5s\n",
            "[CV] END ..............................................C=0.5; total time=  23.9s\n",
            "[CV] END ..............................................C=0.5; total time=  15.7s\n",
            "[CV] END ..............................................C=0.5; total time=  18.1s\n",
            "[CV] END ................................................C=1; total time=  48.0s\n",
            "[CV] END ................................................C=1; total time=  37.4s\n",
            "[CV] END ................................................C=1; total time=  58.7s\n",
            "[CV] END ................................................C=3; total time= 2.5min\n",
            "[CV] END ................................................C=3; total time= 2.0min\n",
            "[CV] END ................................................C=3; total time= 2.4min\n",
            "[CV] END ................................................C=5; total time= 4.0min\n",
            "[CV] END ................................................C=5; total time= 3.6min\n",
            "[CV] END ................................................C=5; total time= 4.6min\n",
            "[CV] END ...............................................C=10; total time= 9.7min\n",
            "[CV] END ...............................................C=10; total time= 7.1min\n",
            "[CV] END ...............................................C=10; total time= 7.9min\n"
          ]
        },
        {
          "output_type": "execute_result",
          "data": {
            "text/plain": [
              "{'C': 5}"
            ]
          },
          "metadata": {},
          "execution_count": 7
        }
      ],
      "source": [
        "#gridSearch по следующим гиперпаарметрами: параметр регуляризации, условие критерия остановки\n",
        "parameters = {'C':[0.1, 0.5, 1, 3, 5, 10]}\n",
        "model1 = SVC(kernel ='precomputed', random_state=0)\n",
        "clf1 = GridSearchCV(model1, parameters, cv=3, verbose=2)\n",
        "clf1.fit(K_train1, y_train)\n",
        "clf1.best_params_"
      ]
    },
    {
      "cell_type": "code",
      "execution_count": 8,
      "metadata": {
        "colab": {
          "base_uri": "https://localhost:8080/"
        },
        "id": "6pr0tTadoRTX",
        "outputId": "ed0bcd57-6032-4cb5-8656-c2c84b58881c"
      },
      "outputs": [
        {
          "output_type": "stream",
          "name": "stdout",
          "text": [
            "Accuracy: 0.6401384083044983\n",
            "Precision: 0.6563876651982379\n",
            "Recall: 0.5340501792114696\n"
          ]
        }
      ],
      "source": [
        "#выберу лучшую модель согласно перебору и посчитаю метрики\n",
        "best_model1 = SVC(kernel ='precomputed', random_state=0, **clf1.best_params_)\n",
        "best_model1.fit(K_train1, y_train)\n",
        "y_pred1 = list(best_model1.predict(K_test1))\n",
        "print(f'Accuracy: {accuracy_score(y_test, y_pred1)}')\n",
        "print(f'Precision: {precision_score(y_test, y_pred1)}')\n",
        "print(f'Recall: {recall_score(y_test, y_pred1)}')"
      ]
    },
    {
      "cell_type": "markdown",
      "metadata": {
        "id": "qSJKAQsAC74Y"
      },
      "source": [
        "Результаты зафиксировали, теперь попробуем сравнить с Weisfeiler-Lehman Kernel."
      ]
    },
    {
      "cell_type": "markdown",
      "metadata": {
        "id": "hNRreKKdChFx"
      },
      "source": [
        "## Также реализовать **Weisfeiler-Lehman Kernel** и обучить классификатор с ним, сравнить результаты\n"
      ]
    },
    {
      "cell_type": "code",
      "execution_count": 9,
      "metadata": {
        "id": "4PXKi3OoD2B_"
      },
      "outputs": [],
      "source": [
        "# функция для совершения шага алгоритма\n",
        "def WeisfeilerLehman_step(graph, labels):\n",
        "    new_labels = {}\n",
        "    for node in graph.nodes():\n",
        "        neighbors_labels = sorted([labels[neighbor] for neighbor in graph.neighbors(node)]) # отбор меток соседних узлов\n",
        "        new_labels[node] = hash((labels[node], tuple(neighbors_labels))) # Обновление метки узла\n",
        "    return new_labels\n",
        "\n",
        "\n",
        "def WeisfeilerLehman_kernel(train_graphs, test_graphs, h=2):\n",
        "    ''' Инициализация меток'''\n",
        "    train_labels, test_labels = [{node: 1 for node in graph.nodes()} for graph in train_graphs], \\\n",
        "                                [{node: 1 for node in graph.nodes()} for graph in test_graphs]\n",
        "\n",
        "    '''Инициализация словрей для хранения частот меток на каждой итерации'''\n",
        "    train_label_freqs, test_label_freqs = [defaultdict(int) for i in range(len(train_graphs))], \\\n",
        "                                        [defaultdict(int) for i in range(len(test_graphs))]\n",
        "\n",
        "    '''проведение h итераций обновления меток'''\n",
        "    for _ in range(h):\n",
        "        '''Обновление метки и подсчет частот для каждого тренировочного графа'''\n",
        "        for i, graph in enumerate(train_graphs):\n",
        "            train_labels[i] = WeisfeilerLehman_step(graph, train_labels[i])\n",
        "            for label in train_labels[i].values():\n",
        "                train_label_freqs[i][label] += 1\n",
        "        '''Обновление метки и подсчет частот для каждого тестового графа'''\n",
        "        for i, graph in enumerate(test_graphs):\n",
        "            test_labels[i] = WeisfeilerLehman_step(graph, test_labels[i])\n",
        "            for label in test_labels[i].values():\n",
        "                test_label_freqs[i][label] += 1\n",
        "\n",
        "    '''Инициализация K_train и K_test'''\n",
        "    K_train, K_test = np.zeros((len(train_graphs), len(train_graphs))), \\\n",
        "                      np.zeros((len(test_graphs), len(train_graphs)))\n",
        "\n",
        "    '''Непосредственно вычисление K_train и K_test (скалярное произведение частот меток) для тренировочных графов'''\n",
        "    for i in range(len(train_graphs)):\n",
        "        for j in range(i, len(train_graphs)):\n",
        "            common_labels = set(train_label_freqs[i].keys()).intersection(train_label_freqs[j].keys())\n",
        "            K_train[i, j] =  K_train[j, i] = sum(min(train_label_freqs[i][label], train_label_freqs[j][label]) for label in common_labels)\n",
        "\n",
        "    '''Непосредственно вычисление K_train и K_test (скалярное произведение частот меток) для тестовых графов'''\n",
        "    for i in range(len(test_graphs)):\n",
        "        for j in range(len(train_graphs)):\n",
        "            common_labels = set(test_label_freqs[i].keys()).intersection(train_label_freqs[j].keys())\n",
        "            K_test[i, j] = sum(min(test_label_freqs[i][label], train_label_freqs[j][label]) for label in common_labels)\n",
        "\n",
        "    return K_train, K_test\n"
      ]
    },
    {
      "cell_type": "code",
      "source": [
        "'''Вычисление матриц ядровых функций'''\n",
        "K_train2, K_test2 = WeisfeilerLehman_kernel(train_graphs, test_graphs)\n",
        "\n",
        "# print(K_train2.shape)\n",
        "# print(K_test2.shape)"
      ],
      "metadata": {
        "id": "QeYV_Ms7Du3M"
      },
      "execution_count": 10,
      "outputs": []
    },
    {
      "cell_type": "code",
      "source": [
        "\n"
      ],
      "metadata": {
        "id": "H7iUBy5yNqH2"
      },
      "execution_count": 10,
      "outputs": []
    },
    {
      "cell_type": "code",
      "source": [
        "#gridSearch по следующим гиперпаарметрами: параметр регуляризации, условие критерия остановки\n",
        "parameters = {'C':[0.1, 0.5, 1, 3, 5, 10]}\n",
        "model2 = SVC(kernel ='precomputed', random_state=0)\n",
        "clf2 = GridSearchCV(model2, parameters, cv=3, verbose=2)\n",
        "clf2.fit(K_train2, y_train)\n",
        "clf2.best_params_"
      ],
      "metadata": {
        "colab": {
          "base_uri": "https://localhost:8080/"
        },
        "id": "cheGwMSmEvDZ",
        "outputId": "7c9b6c77-ac03-4674-801c-3597017401b8"
      },
      "execution_count": 11,
      "outputs": [
        {
          "output_type": "stream",
          "name": "stdout",
          "text": [
            "Fitting 3 folds for each of 6 candidates, totalling 18 fits\n",
            "[CV] END ..............................................C=0.1; total time=   0.0s\n",
            "[CV] END ..............................................C=0.1; total time=   0.0s\n",
            "[CV] END ..............................................C=0.1; total time=   0.0s\n",
            "[CV] END ..............................................C=0.5; total time=   0.1s\n",
            "[CV] END ..............................................C=0.5; total time=   0.1s\n",
            "[CV] END ..............................................C=0.5; total time=   0.1s\n",
            "[CV] END ................................................C=1; total time=   0.1s\n",
            "[CV] END ................................................C=1; total time=   0.1s\n",
            "[CV] END ................................................C=1; total time=   0.1s\n",
            "[CV] END ................................................C=3; total time=   0.4s\n",
            "[CV] END ................................................C=3; total time=   0.5s\n",
            "[CV] END ................................................C=3; total time=   0.9s\n",
            "[CV] END ................................................C=5; total time=   0.9s\n",
            "[CV] END ................................................C=5; total time=   0.6s\n",
            "[CV] END ................................................C=5; total time=   1.0s\n",
            "[CV] END ...............................................C=10; total time=   1.1s\n",
            "[CV] END ...............................................C=10; total time=   1.0s\n",
            "[CV] END ...............................................C=10; total time=   1.2s\n"
          ]
        },
        {
          "output_type": "execute_result",
          "data": {
            "text/plain": [
              "{'C': 0.1}"
            ]
          },
          "metadata": {},
          "execution_count": 11
        }
      ]
    },
    {
      "cell_type": "code",
      "source": [
        "#выберу лучшую модель согласно перебору и посчитаю метрики\n",
        "best_model2 = SVC(kernel ='precomputed', random_state=0, **clf2.best_params_)\n",
        "best_model2.fit(K_train2, y_train)\n",
        "y_pred2 = list(best_model2.predict(K_test2))\n",
        "print(f'Accuracy: {accuracy_score(y_test, y_pred2)}')\n",
        "print(f'Precision: {precision_score(y_test, y_pred2)}')\n",
        "print(f'Recall: {recall_score(y_test, y_pred2)}')"
      ],
      "metadata": {
        "colab": {
          "base_uri": "https://localhost:8080/"
        },
        "id": "sChfW0L5E-XB",
        "outputId": "8912f455-3a68-434e-e58e-47b395d07db9"
      },
      "execution_count": 12,
      "outputs": [
        {
          "output_type": "stream",
          "name": "stdout",
          "text": [
            "Accuracy: 0.7352941176470589\n",
            "Precision: 0.7480314960629921\n",
            "Recall: 0.6810035842293907\n"
          ]
        }
      ]
    },
    {
      "cell_type": "markdown",
      "source": [
        "## Выводы:\n",
        "\n",
        "1. Качество модели повысилось: значения метрик accuracy, precision и recall увеличились на 15-20%.\n",
        "2. Обучение модели с Weisfeiler-Lehman Kernel происходило значительно быстрее.\n"
      ],
      "metadata": {
        "id": "5j4Zh_kAMwX7"
      }
    },
    {
      "cell_type": "code",
      "source": [],
      "metadata": {
        "id": "NHfdW2JMMzWV"
      },
      "execution_count": null,
      "outputs": []
    }
  ],
  "metadata": {
    "colab": {
      "provenance": []
    },
    "kernelspec": {
      "display_name": "Python 3",
      "name": "python3"
    },
    "language_info": {
      "codemirror_mode": {
        "name": "ipython",
        "version": 3
      },
      "file_extension": ".py",
      "mimetype": "text/x-python",
      "name": "python",
      "nbconvert_exporter": "python",
      "pygments_lexer": "ipython3",
      "version": "3.11.5"
    },
    "varInspector": {
      "cols": {
        "lenName": 16,
        "lenType": 16,
        "lenVar": 40
      },
      "kernels_config": {
        "python": {
          "delete_cmd_postfix": "",
          "delete_cmd_prefix": "del ",
          "library": "var_list.py",
          "varRefreshCmd": "print(var_dic_list())"
        },
        "r": {
          "delete_cmd_postfix": ") ",
          "delete_cmd_prefix": "rm(",
          "library": "var_list.r",
          "varRefreshCmd": "cat(var_dic_list()) "
        }
      },
      "types_to_exclude": [
        "module",
        "function",
        "builtin_function_or_method",
        "instance",
        "_Feature"
      ],
      "window_display": false
    }
  },
  "nbformat": 4,
  "nbformat_minor": 0
}