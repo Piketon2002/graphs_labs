{
 "cells": [
  {
   "cell_type": "markdown",
   "metadata": {
    "id": "efo1p0VQbVbz"
   },
   "source": [
    "# Лабораторная работа №2"
   ]
  },
  {
   "cell_type": "code",
   "execution_count": 1,
   "metadata": {},
   "outputs": [],
   "source": [
    "import numpy as np\n",
    "import pandas as pd\n",
    "import random\n",
    "import networkx as nx\n",
    "import matplotlib.pyplot as plt\n",
    "import graphblas as gb\n",
    "from graphblas import Matrix, Vector, Scalar\n",
    "from graphblas import dtypes\n",
    "from graphblas import unary, binary, monoid, semiring\n",
    "from graphblas.io import mmread\n",
    "from colorama import Style"
   ]
  },
  {
   "cell_type": "markdown",
   "metadata": {
    "id": "R7gEUS4iD7cw"
   },
   "source": [
    "## 1) MSBFS-Levels"
   ]
  },
  {
   "cell_type": "code",
   "execution_count": 2,
   "metadata": {
    "id": "ItsjRPvEbVeK"
   },
   "outputs": [],
   "source": [
    "def MSBFS_Levels(A, start_vertices):\n",
    "    '''0. Проверка того, что граф является ориентированным'''\n",
    "    if A.isequal(A.T) and A.nvals > 0: \n",
    "        raise Exception(\"Error!!! Граф неориентированный!\")\n",
    "        \n",
    "    '''1. Начальные значения параметров'''\n",
    "    n = A.nrows # число вершин\n",
    "    m = start_vertices.size # число стартовых вершин\n",
    "    result = Matrix(dtypes.INT32, m, n) # размеры результирующей матрицы\n",
    "    f = Matrix(bool, m, n) # фронт\n",
    "    succ = Vector(bool, m) # вектор, показывающий доступность вершин из текущей\n",
    "    \n",
    "    #в матрице f проставление True в ячейках стартовых вершин\n",
    "    for i in range(m):\n",
    "        f[i, start_vertices[i]] << True \n",
    "    \n",
    "    '''2. Обход графа'''\n",
    "    level = 0\n",
    "    while True:\n",
    "        # стартовые вершины заполняются как 0-ой уровень\n",
    "        result(mask=f.V) << level \n",
    "        # расчет следующего фронта (перемножение матриц + маска)\n",
    "        f(~result.S, replace=True) << f.mxm(A, semiring.lor_land)\n",
    "        # для каждой стартовой вершины заполнение вектора наличия доступных вершин\n",
    "        for i in range(m):\n",
    "            succ[i] << f[i,:].reduce(monoid.lor, allow_empty=False) \n",
    "            \n",
    "        # проверка критерия остановки цикла while (ни из одной стартовой вершины на очередной итерации нет доступных вершин?)\n",
    "        finish_flg = True\n",
    "        for i in range(m):\n",
    "            # если хотя бы один элемент True, цикл завершаем меняя флаг\n",
    "            if succ[i]:\n",
    "                finish_flg = False\n",
    "                break\n",
    "                \n",
    "        # если флаг так и остался True (ни одного срабатывания), то цикл while завершается \n",
    "        if finish_flg:\n",
    "            break\n",
    "            \n",
    "        level += 1    \n",
    "    '''3. Приведение результата к нужному формату'''\n",
    "    # заполнение недоступных вершин дефолтными значениями (-1)\n",
    "    # и преобразование результата в следующий формат: словарь, где ключ - номер вершины, значение - массив номеров уровней\n",
    "    res = result.to_dense(fill_value=-1)\n",
    "    output = {}\n",
    "    for i, vert in enumerate(start_vertices):\n",
    "        output[vert] = res[i, :]\n",
    "        \n",
    "    return output "
   ]
  },
  {
   "cell_type": "markdown",
   "metadata": {
    "id": "ED1eMM5AYbiU"
   },
   "source": [
    "## 2) MSBFS-Parents"
   ]
  },
  {
   "cell_type": "code",
   "execution_count": 3,
   "metadata": {
    "id": "srPLTbEmLGNH"
   },
   "outputs": [],
   "source": [
    "def MSBFS_Parents(A, start_vertices):\n",
    "    '''0. Проверка того, что граф является ориентированным'''\n",
    "    if A.isequal(A.T) and A.nvals > 0: \n",
    "        raise Exception(\"Error!!! Граф неориентированный!\")\n",
    "\n",
    "    '''1. Начальные значения параметров'''\n",
    "    N = A.nrows # число вершин\n",
    "    M = start_vertices.size # число стартовых вершин\n",
    "\n",
    "    # генерация матрицы, где идентификатор вершины равен значению\n",
    "    index_ramp = Matrix(dtypes.UINT64, M, N)\n",
    "    for j in range(N):\n",
    "        index_ramp[:,j] << j\n",
    "        \n",
    "    parents, wavefront = Matrix(dtypes.INT64, M, N), Matrix(dtypes.UINT64, M, N)\n",
    "    \n",
    "    # заполнение стартовыми значениями матриц parents, wavefront\n",
    "    for i in range(M):\n",
    "        parents[i, start_vertices[i]] << start_vertices[i] \n",
    "        wavefront[i, start_vertices[i]] << 1\n",
    "        \n",
    "    '''2. Обход графа'''\n",
    "    while wavefront.nvals > 0:\n",
    "        # Преобразование всех сохраненных значений в wavefront в их индекc\n",
    "        wavefront << index_ramp.ewise_mult(wavefront, binary.first) \n",
    "        # маскирование родительского списка\n",
    "        wavefront(~parents.S, replace=True) << wavefront.mxm(A, semiring.min_first) \n",
    "        # Объединение новых родительских элементов в текущий волновой фронт с существующими родителями\n",
    "        parents(binary.plus) << wavefront \n",
    "    \n",
    "    '''3. Приведение результата к нужному формату'''\n",
    "    # заполнение недоступных вершин дефолтными значениями (-2), для стартовых вершин -1\n",
    "    # и преобразование результата в следующий формат: словарь, где ключ - номер вершины, значение - массив родительских вершин\n",
    "    for ind in range(len(start_vertices)):\n",
    "        parents[ind, start_vertices[ind]] << -1\n",
    "    \n",
    "    res = parents.to_dense(fill_value=-2)\n",
    "    output = {}\n",
    "    for i, vert in enumerate(start_vertices):\n",
    "        output[vert] = res[i, :]\n",
    "    \n",
    "    return output "
   ]
  },
  {
   "cell_type": "markdown",
   "metadata": {
    "id": "xQ8viaNsYiFs"
   },
   "source": [
    "## 3) Проверка корректности работы функций <code>MSBFS-Levels</code> и  <code>MSBFS-Parents</code>\n",
    "\n",
    "Всего будет 3 графа для проверки:\n",
    "- неориентированный граф (проверка того, что отработает ошибка);\n",
    "- граф со связанными  вершинами  (но не обязательно достижимы из каждой стартовой точки);\n",
    "- граф, у которого вершины сгруппированы в \"островки\". "
   ]
  },
  {
   "cell_type": "code",
   "execution_count": 4,
   "metadata": {},
   "outputs": [
    {
     "data": {
      "image/png": "[encoded data removed]",
      "text/plain": [
       "<Figure size 640x480 with 1 Axes>"
      ]
     },
     "metadata": {},
     "output_type": "display_data"
    },
    {
     "ename": "Exception",
     "evalue": "Error!!! Граф неориентированный!",
     "output_type": "error",
     "traceback": [
      "\u001b[1;31m---------------------------------------------------------------------------\u001b[0m",
      "\u001b[1;31mException\u001b[0m                                 Traceback (most recent call last)",
      "Cell \u001b[1;32mIn[4], line 12\u001b[0m\n\u001b[0;32m      8\u001b[0m M1 \u001b[38;5;241m=\u001b[39m gb\u001b[38;5;241m.\u001b[39mMatrix\u001b[38;5;241m.\u001b[39mfrom_dense(matrix1, missing_value\u001b[38;5;241m=\u001b[39m\u001b[38;5;241m0\u001b[39m)\n\u001b[0;32m     10\u001b[0m gb\u001b[38;5;241m.\u001b[39mviz\u001b[38;5;241m.\u001b[39mdraw(M1)\n\u001b[1;32m---> 12\u001b[0m \u001b[38;5;28mprint\u001b[39m(MSBFS_Levels(M1, np\u001b[38;5;241m.\u001b[39marray([\u001b[38;5;241m0\u001b[39m, \u001b[38;5;241m1\u001b[39m, \u001b[38;5;241m2\u001b[39m, \u001b[38;5;241m3\u001b[39m])))\n",
      "Cell \u001b[1;32mIn[2], line 4\u001b[0m, in \u001b[0;36mMSBFS_Levels\u001b[1;34m(A, start_vertices)\u001b[0m\n\u001b[0;32m      2\u001b[0m \u001b[38;5;250m\u001b[39m\u001b[38;5;124;03m'''0. Проверка того, что граф является ориентированным'''\u001b[39;00m\n\u001b[0;32m      3\u001b[0m \u001b[38;5;28;01mif\u001b[39;00m A\u001b[38;5;241m.\u001b[39misequal(A\u001b[38;5;241m.\u001b[39mT) \u001b[38;5;129;01mand\u001b[39;00m A\u001b[38;5;241m.\u001b[39mnvals \u001b[38;5;241m>\u001b[39m \u001b[38;5;241m0\u001b[39m: \n\u001b[1;32m----> 4\u001b[0m     \u001b[38;5;28;01mraise\u001b[39;00m \u001b[38;5;167;01mException\u001b[39;00m(\u001b[38;5;124m\"\u001b[39m\u001b[38;5;124mError!!! Граф неориентированный!\u001b[39m\u001b[38;5;124m\"\u001b[39m)\n\u001b[0;32m      6\u001b[0m \u001b[38;5;250m\u001b[39m\u001b[38;5;124;03m'''1. Начальные значения параметров'''\u001b[39;00m\n\u001b[0;32m      7\u001b[0m n \u001b[38;5;241m=\u001b[39m A\u001b[38;5;241m.\u001b[39mnrows \u001b[38;5;66;03m# число вершин\u001b[39;00m\n",
      "\u001b[1;31mException\u001b[0m: Error!!! Граф неориентированный!"
     ]
    }
   ],
   "source": [
    "'''а) Создадим простой неориентированный граф с 4 вершинами и 1 треугольником, в котором участвуют вершины 1, 2 и 3.'''\n",
    "matrix1 = np.array([\n",
    "    [0, 1, 0, 0],\n",
    "    [1, 0, 1, 1],\n",
    "    [0, 1, 0, 1],\n",
    "    [0, 1, 1, 0]\n",
    "])\n",
    "M1 = gb.Matrix.from_dense(matrix1, missing_value=0)\n",
    "\n",
    "gb.viz.draw(M1)\n",
    "\n",
    "print(MSBFS_Levels(M1, np.array([0, 1, 2, 3])))"
   ]
  },
  {
   "cell_type": "code",
   "execution_count": 5,
   "metadata": {},
   "outputs": [
    {
     "ename": "Exception",
     "evalue": "Error!!! Граф неориентированный!",
     "output_type": "error",
     "traceback": [
      "\u001b[1;31m---------------------------------------------------------------------------\u001b[0m",
      "\u001b[1;31mException\u001b[0m                                 Traceback (most recent call last)",
      "Cell \u001b[1;32mIn[5], line 1\u001b[0m\n\u001b[1;32m----> 1\u001b[0m \u001b[38;5;28mprint\u001b[39m(MSBFS_Parents(M1, np\u001b[38;5;241m.\u001b[39marray([\u001b[38;5;241m0\u001b[39m, \u001b[38;5;241m1\u001b[39m, \u001b[38;5;241m2\u001b[39m, \u001b[38;5;241m3\u001b[39m])))\n",
      "Cell \u001b[1;32mIn[3], line 4\u001b[0m, in \u001b[0;36mMSBFS_Parents\u001b[1;34m(A, start_vertices)\u001b[0m\n\u001b[0;32m      2\u001b[0m \u001b[38;5;250m\u001b[39m\u001b[38;5;124;03m'''0. Проверка того, что граф является ориентированным'''\u001b[39;00m\n\u001b[0;32m      3\u001b[0m \u001b[38;5;28;01mif\u001b[39;00m A\u001b[38;5;241m.\u001b[39misequal(A\u001b[38;5;241m.\u001b[39mT) \u001b[38;5;129;01mand\u001b[39;00m A\u001b[38;5;241m.\u001b[39mnvals \u001b[38;5;241m>\u001b[39m \u001b[38;5;241m0\u001b[39m: \n\u001b[1;32m----> 4\u001b[0m     \u001b[38;5;28;01mraise\u001b[39;00m \u001b[38;5;167;01mException\u001b[39;00m(\u001b[38;5;124m\"\u001b[39m\u001b[38;5;124mError!!! Граф неориентированный!\u001b[39m\u001b[38;5;124m\"\u001b[39m)\n\u001b[0;32m      6\u001b[0m \u001b[38;5;250m\u001b[39m\u001b[38;5;124;03m'''1. Начальные значения параметров'''\u001b[39;00m\n\u001b[0;32m      7\u001b[0m N \u001b[38;5;241m=\u001b[39m A\u001b[38;5;241m.\u001b[39mnrows \u001b[38;5;66;03m# число вершин\u001b[39;00m\n",
      "\u001b[1;31mException\u001b[0m: Error!!! Граф неориентированный!"
     ]
    }
   ],
   "source": [
    "print(MSBFS_Parents(M1, np.array([0, 1, 2, 3])))"
   ]
  },
  {
   "cell_type": "code",
   "execution_count": 6,
   "metadata": {},
   "outputs": [
    {
     "data": {
      "image/png": "[encoded data removed]",
      "text/plain": [
       "<Figure size 640x480 with 1 Axes>"
      ]
     },
     "metadata": {},
     "output_type": "display_data"
    }
   ],
   "source": [
    "'''б) Создадим простой ориентированный граф с 4 вершинами в форме квадрата'''\n",
    "matrix2 = np.array([\n",
    "    [0, 1, 0, 1],\n",
    "    [0, 0, 1, 0],\n",
    "    [0, 1, 0, 1],\n",
    "    [0, 0, 0, 0]\n",
    "])\n",
    "M2 = gb.Matrix.from_dense(matrix2, missing_value=0)\n",
    "\n",
    "gb.viz.draw(M2)\n",
    "\n",
    "'''начало в вершинах 0, 1, 3'''\n",
    "##### для уровней\n",
    "# старт из 0: вершины 1 и 3 - 1го уровня, 2 - 2го уровня\n",
    "# старт из 1: вершина 2 - 1го уровня, 3 - 2ого уровня, 0 - недостижима\n",
    "# старт из 3: вершины 0, 1, 2 - недостижимы\n",
    "assert (MSBFS_Levels(M2, np.array([0, 1, 3]))[0]==np.array([0, 1, 2, 1])).all()\n",
    "assert (MSBFS_Levels(M2, np.array([0, 1, 3]))[1]==np.array([-1, 0, 1, 2])).all()\n",
    "assert (MSBFS_Levels(M2, np.array([0, 1, 3]))[3]==np.array([-1, -1, -1, 0])).all()\n",
    "##### для родителей\n",
    "# старт из 0: вершина 1 достижима из 0, 2 - из 1, 3 из 0 и 2 (ближайшая 0)\n",
    "# старт из 1: вершина 0 недостижима, вершина 2 достижима из 1, вершина 3 достижима из 0 и 2 (ближайшая 2)\n",
    "# старт из 3: все вершины недостижимы\n",
    "assert (MSBFS_Parents(M2, np.array([0, 1, 3]))[0]==np.array([-1, 0, 1, 0])).all()\n",
    "assert (MSBFS_Parents(M2, np.array([0, 1, 3]))[1]==np.array([-2, -1, 1, 2])).all()\n",
    "assert (MSBFS_Parents(M2, np.array([0, 1, 3]))[3]==np.array([-2, -2, -2, -1])).all()"
   ]
  },
  {
   "cell_type": "code",
   "execution_count": 7,
   "metadata": {},
   "outputs": [
    {
     "data": {
      "image/png": "[encoded data removed]",
      "text/plain": [
       "<Figure size 640x480 with 1 Axes>"
      ]
     },
     "metadata": {},
     "output_type": "display_data"
    }
   ],
   "source": [
    "'''в) Создадим граф с 4 вершинами из двух островков'''\n",
    "matrix3 = np.array([\n",
    "    [0, 1, 0, 0],\n",
    "    [0, 0, 0, 0],\n",
    "    [0, 0, 0, 1],\n",
    "    [0, 0, 1, 0]\n",
    "])\n",
    "M3 = gb.Matrix.from_dense(matrix3, missing_value=0)\n",
    "\n",
    "gb.viz.draw(M3)\n",
    "\n",
    "'''начало в вершинах 3, 2, 1'''\n",
    "##### для уровней\n",
    "# старт из 3: вершины 0 и 1 - недостижимы, 2 - 1го уровня\n",
    "# старт из 2: вершины 0 и 1 - недостижимы, 3 - 1го уровня\n",
    "# старт из 1: вершина 0, 2 и 3 - недостижимы\n",
    "assert (MSBFS_Levels(M3, np.array([3, 2, 1]))[3]==np.array([-1, -1, 1, 0])).all()\n",
    "assert (MSBFS_Levels(M3, np.array([3, 2, 1]))[2]==np.array([-1, -1, 0, 1])).all()\n",
    "assert (MSBFS_Levels(M3, np.array([3, 2, 1]))[1]==np.array([-1, 0, -1, -1])).all()\n",
    "##### для родителей\n",
    "# старт из 3: вершина 0 и 1 недостижима, вершина 2 достижима из 3\n",
    "# старт из 2: вершина 0 и 1 недостижима, вершина 3 достижима из 2\n",
    "# старт из 1: вершина 0, 2 и 3 - недостижимы\n",
    "assert (MSBFS_Parents(M3, np.array([3, 2, 1]))[3]==np.array([-2, -2, 3, -1])).all()\n",
    "assert (MSBFS_Parents(M3, np.array([3, 2, 1]))[2]==np.array([-2, -2, -1, 2])).all()\n",
    "assert (MSBFS_Parents(M3, np.array([3, 2, 1]))[1]==np.array([-2, -1, -2, -2])).all()"
   ]
  },
  {
   "cell_type": "markdown",
   "metadata": {},
   "source": [
    "## 4) Тестирование на графах с  [SuiteSparse Matrix Collection](https://sparse.tamu.edu)\n",
    "\n",
    "Было скачано 3 графа."
   ]
  },
  {
   "cell_type": "code",
   "execution_count": 8,
   "metadata": {},
   "outputs": [],
   "source": [
    "graph_names = ['GD00_a', 'CSphd', 'EPA'] # названия загруженных графов\n",
    "vertex_fracs=[5, 35, 70, 95] # доли стартовых вершин от общего числа"
   ]
  },
  {
   "cell_type": "code",
   "execution_count": 9,
   "metadata": {},
   "outputs": [],
   "source": [
    "'''Функции для тестирования'''\n",
    "\n",
    "def gen_vertices(num_vertices, vertex_frac):\n",
    "    '''\n",
    "    генерация стартовых вершин в зависимости от числа вершин (num_vertices) и \n",
    "    доли (в %) стартовых вершин от общего числа (vertex_frac)\n",
    "    '''\n",
    "    start_vertices = random.sample(range(num_vertices), int(vertex_frac / 100 * num_vertices))\n",
    "    return np.array(start_vertices)\n",
    "\n",
    "\n",
    "# тестирование функции \"MSBFS_Levels\"\n",
    "def test_Levels(A, start_vertices):\n",
    "    print('MSBFS_Levels:')\n",
    "    %timeit MSBFS_Levels(A, start_vertices)\n",
    "    print()\n",
    "\n",
    "    \n",
    "# тестирование функции \"MSBFS_Levels\"\n",
    "def test_Parents(A, start_vertices):\n",
    "    print('MSBFS_Parents:')\n",
    "    %timeit MSBFS_Parents(A, start_vertices)\n",
    "    print('\\n')"
   ]
  },
  {
   "cell_type": "code",
   "execution_count": 10,
   "metadata": {},
   "outputs": [
    {
     "name": "stdout",
     "output_type": "stream",
     "text": [
      "\u001b[1mДля GD00_a.mtx (Количество вершин: 352, количество ребер: 458), степень разреженности: 0.0037\n",
      "\u001b[0mКоличество стартовых вершин: 17\n",
      "MSBFS_Levels:\n",
      "30.6 ms ± 2.7 ms per loop (mean ± std. dev. of 7 runs, 10 loops each)\n",
      "\n",
      "Количество стартовых вершин: 123\n",
      "MSBFS_Levels:\n",
      "278 ms ± 20.4 ms per loop (mean ± std. dev. of 7 runs, 1 loop each)\n",
      "\n",
      "Количество стартовых вершин: 246\n",
      "MSBFS_Levels:\n",
      "529 ms ± 43.8 ms per loop (mean ± std. dev. of 7 runs, 1 loop each)\n",
      "\n",
      "Количество стартовых вершин: 334\n",
      "MSBFS_Levels:\n",
      "763 ms ± 12.3 ms per loop (mean ± std. dev. of 7 runs, 1 loop each)\n",
      "\n",
      "\n",
      "\u001b[1mДля CSphd.mtx (Количество вершин: 1882, количество ребер: 1740), степень разреженности: 0.0005\n",
      "\u001b[0mКоличество стартовых вершин: 94\n",
      "MSBFS_Levels:\n",
      "366 ms ± 31.6 ms per loop (mean ± std. dev. of 7 runs, 1 loop each)\n",
      "\n",
      "Количество стартовых вершин: 658\n",
      "MSBFS_Levels:\n",
      "2.52 s ± 90.7 ms per loop (mean ± std. dev. of 7 runs, 1 loop each)\n",
      "\n",
      "Количество стартовых вершин: 1317\n",
      "MSBFS_Levels:\n",
      "6.2 s ± 191 ms per loop (mean ± std. dev. of 7 runs, 1 loop each)\n",
      "\n",
      "Количество стартовых вершин: 1787\n",
      "MSBFS_Levels:\n",
      "7.98 s ± 58.1 ms per loop (mean ± std. dev. of 7 runs, 1 loop each)\n",
      "\n",
      "\n",
      "\u001b[1mДля EPA.mtx (Количество вершин: 4772, количество ребер: 8965), степень разреженности: 0.0004\n",
      "\u001b[0mКоличество стартовых вершин: 238\n",
      "MSBFS_Levels:\n",
      "885 ms ± 18.8 ms per loop (mean ± std. dev. of 7 runs, 1 loop each)\n",
      "\n",
      "Количество стартовых вершин: 1670\n",
      "MSBFS_Levels:\n",
      "6.23 s ± 239 ms per loop (mean ± std. dev. of 7 runs, 1 loop each)\n",
      "\n",
      "Количество стартовых вершин: 3340\n",
      "MSBFS_Levels:\n",
      "12.4 s ± 121 ms per loop (mean ± std. dev. of 7 runs, 1 loop each)\n",
      "\n",
      "Количество стартовых вершин: 4533\n",
      "MSBFS_Levels:\n",
      "16.8 s ± 139 ms per loop (mean ± std. dev. of 7 runs, 1 loop each)\n",
      "\n",
      "\n"
     ]
    }
   ],
   "source": [
    "'''Тестирование функции MSBFS-Levels'''\n",
    "# 1. Зависимость времени работы от размера графа (и степени разреженности)\n",
    "for graph_name in graph_names:\n",
    "    graph = mmread(f'DataLab2/{graph_name}.mtx')\n",
    "    num_vertices = graph.shape[0]\n",
    "    num_edges = len(graph.to_coo()[0])\n",
    "    rerefaction_deg = num_edges / (num_vertices * (num_vertices - 1))\n",
    "    print(Style.BRIGHT + f'Для {graph_name}.mtx (Количество вершин: {num_vertices}, количество ребер: {num_edges}), степень разреженности: {rerefaction_deg:.4f}')\n",
    "    print(Style.RESET_ALL, end='')\n",
    "    \n",
    "    # 2. Зависимость времени работы от числа стартовых вершин\n",
    "    for vertex_frac in vertex_fracs:\n",
    "        print(f'Количество стартовых вершин: {int(vertex_frac / 100 * graph.nrows)}')\n",
    "        test_Levels(graph, gen_vertices(graph.nrows, vertex_frac))\n",
    "    print()"
   ]
  },
  {
   "cell_type": "code",
   "execution_count": 11,
   "metadata": {},
   "outputs": [
    {
     "name": "stdout",
     "output_type": "stream",
     "text": [
      "\u001b[1mДля GD00_a.mtx (Количество вершин: 352, количество ребер: 458), степень разреженности: 0.0037\n",
      "\u001b[0mКоличество стартовых вершин: 17\n",
      "MSBFS_Parents:\n",
      "104 ms ± 5.16 ms per loop (mean ± std. dev. of 7 runs, 10 loops each)\n",
      "\n",
      "\n",
      "Количество стартовых вершин: 123\n",
      "MSBFS_Parents:\n",
      "145 ms ± 2.35 ms per loop (mean ± std. dev. of 7 runs, 10 loops each)\n",
      "\n",
      "\n",
      "Количество стартовых вершин: 246\n",
      "MSBFS_Parents:\n",
      "185 ms ± 8.19 ms per loop (mean ± std. dev. of 7 runs, 10 loops each)\n",
      "\n",
      "\n",
      "Количество стартовых вершин: 334\n",
      "MSBFS_Parents:\n",
      "216 ms ± 14.3 ms per loop (mean ± std. dev. of 7 runs, 1 loop each)\n",
      "\n",
      "\n",
      "\n",
      "\u001b[1mДля CSphd.mtx (Количество вершин: 1882, количество ребер: 1740), степень разреженности: 0.0005\n",
      "\u001b[0mКоличество стартовых вершин: 94\n",
      "MSBFS_Parents:\n",
      "583 ms ± 7.46 ms per loop (mean ± std. dev. of 7 runs, 1 loop each)\n",
      "\n",
      "\n",
      "Количество стартовых вершин: 658\n",
      "MSBFS_Parents:\n",
      "873 ms ± 29.5 ms per loop (mean ± std. dev. of 7 runs, 1 loop each)\n",
      "\n",
      "\n",
      "Количество стартовых вершин: 1317\n",
      "MSBFS_Parents:\n",
      "1.22 s ± 47.2 ms per loop (mean ± std. dev. of 7 runs, 1 loop each)\n",
      "\n",
      "\n",
      "Количество стартовых вершин: 1787\n",
      "MSBFS_Parents:\n",
      "1.46 s ± 34.1 ms per loop (mean ± std. dev. of 7 runs, 1 loop each)\n",
      "\n",
      "\n",
      "\n",
      "\u001b[1mДля EPA.mtx (Количество вершин: 4772, количество ребер: 8965), степень разреженности: 0.0004\n",
      "\u001b[0mКоличество стартовых вершин: 238\n",
      "MSBFS_Parents:\n",
      "1.52 s ± 91.6 ms per loop (mean ± std. dev. of 7 runs, 1 loop each)\n",
      "\n",
      "\n",
      "Количество стартовых вершин: 1670\n",
      "MSBFS_Parents:\n",
      "2.94 s ± 61.2 ms per loop (mean ± std. dev. of 7 runs, 1 loop each)\n",
      "\n",
      "\n",
      "Количество стартовых вершин: 3340\n",
      "MSBFS_Parents:\n",
      "4.4 s ± 100 ms per loop (mean ± std. dev. of 7 runs, 1 loop each)\n",
      "\n",
      "\n",
      "Количество стартовых вершин: 4533\n",
      "MSBFS_Parents:\n",
      "5.58 s ± 58.6 ms per loop (mean ± std. dev. of 7 runs, 1 loop each)\n",
      "\n",
      "\n",
      "\n"
     ]
    }
   ],
   "source": [
    "'''Тестирование функции MSBFS-Parents'''\n",
    "# 1. Зависимость времени работы от размера графа (и степени разреженности)\n",
    "for graph_name in graph_names:\n",
    "    graph = mmread(f'DataLab2/{graph_name}.mtx')\n",
    "    num_vertices = graph.shape[0]\n",
    "    num_edges = len(graph.to_coo()[0])\n",
    "    rerefaction_deg = num_edges / (num_vertices * (num_vertices - 1))\n",
    "    print(Style.BRIGHT + f'Для {graph_name}.mtx (Количество вершин: {num_vertices}, количество ребер: {num_edges}), степень разреженности: {rerefaction_deg:.4f}')\n",
    "    print(Style.RESET_ALL, end='')\n",
    "    \n",
    "    # 2. Зависимость времени работы от числа стартовых вершин\n",
    "    for vertex_frac in vertex_fracs:\n",
    "        print(f'Количество стартовых вершин: {int(vertex_frac / 100 * graph.nrows)}')\n",
    "        test_Parents(graph, gen_vertices(graph.nrows, vertex_frac))\n",
    "    print()"
   ]
  },
  {
   "cell_type": "markdown",
   "metadata": {},
   "source": [
    "## 5) Тестирование на случайно сгенерированных графах"
   ]
  },
  {
   "cell_type": "code",
   "execution_count": 12,
   "metadata": {},
   "outputs": [],
   "source": [
    "def generate_graph(num_vertices, num_edges):\n",
    "    '''создание множества, состоящего из номеров ячеек матрицы (без диагональных элементов)'''\n",
    "    positions=[]\n",
    "    for ind in range(num_vertices**2):\n",
    "        if ind // num_vertices != ind % num_vertices:\n",
    "            positions.append(ind)\n",
    "\n",
    "    '''Отбор num_edges случайных индексов вершин (случайные значения из high_positions) для создания ребер'''\n",
    "    gen_indices = random.sample(positions, num_edges)\n",
    "    \n",
    "    '''Преобразование индексов в координаты (строка, столбец)'''\n",
    "    row_indices, col_indices = np.unravel_index(gen_indices, (num_vertices, num_vertices))\n",
    "    \n",
    "    return gb.Matrix.from_coo(row_indices, col_indices, [1]*len(row_indices), nrows=num_vertices, ncols=num_vertices)"
   ]
  },
  {
   "cell_type": "markdown",
   "metadata": {},
   "source": [
    "#### 5.1) Зависимость от числа вершин (при фикс степени разреженности и фикс числе стартовых вершин)"
   ]
  },
  {
   "cell_type": "code",
   "execution_count": 13,
   "metadata": {},
   "outputs": [
    {
     "name": "stdout",
     "output_type": "stream",
     "text": [
      "\u001b[1mКоличество вершин: 100, степень разреженности: 0.50, доля стартовых вершин: 50%\n",
      "\u001b[0mMSBFS_Levels:\n",
      "62.2 ms ± 1.88 ms per loop (mean ± std. dev. of 7 runs, 10 loops each)\n",
      "\n",
      "MSBFS_Parents:\n",
      "50.6 ms ± 1.22 ms per loop (mean ± std. dev. of 7 runs, 10 loops each)\n",
      "\n",
      "\n",
      "\u001b[1mКоличество вершин: 200, степень разреженности: 0.50, доля стартовых вершин: 50%\n",
      "\u001b[0mMSBFS_Levels:\n",
      "122 ms ± 7.14 ms per loop (mean ± std. dev. of 7 runs, 10 loops each)\n",
      "\n",
      "MSBFS_Parents:\n",
      "108 ms ± 2.26 ms per loop (mean ± std. dev. of 7 runs, 10 loops each)\n",
      "\n",
      "\n",
      "\u001b[1mКоличество вершин: 400, степень разреженности: 0.50, доля стартовых вершин: 50%\n",
      "\u001b[0mMSBFS_Levels:\n",
      "253 ms ± 6.59 ms per loop (mean ± std. dev. of 7 runs, 1 loop each)\n",
      "\n",
      "MSBFS_Parents:\n",
      "292 ms ± 23.1 ms per loop (mean ± std. dev. of 7 runs, 1 loop each)\n",
      "\n",
      "\n",
      "\u001b[1mКоличество вершин: 800, степень разреженности: 0.50, доля стартовых вершин: 50%\n",
      "\u001b[0mMSBFS_Levels:\n",
      "564 ms ± 23.8 ms per loop (mean ± std. dev. of 7 runs, 1 loop each)\n",
      "\n",
      "MSBFS_Parents:\n",
      "1.05 s ± 75.1 ms per loop (mean ± std. dev. of 7 runs, 1 loop each)\n",
      "\n",
      "\n"
     ]
    }
   ],
   "source": [
    "for i in [100, 200, 400, 800]:\n",
    "    fix_raref_deg, num_starts = 0.5, 50 # фиксированные значения степени разреженности и числа стартовых вершин\n",
    "    generated_graph = generate_graph(i, int(fix_raref_deg * i * (i-1)))\n",
    "    num_vertices = generated_graph.shape[0]\n",
    "    num_edges = len(generated_graph.to_coo()[0])\n",
    "    rerefaction_deg = num_edges / (num_vertices * (num_vertices - 1))\n",
    "    print(Style.BRIGHT + f'Количество вершин: {num_vertices}, степень разреженности: {rerefaction_deg:.2f}, доля стартовых вершин: {num_starts}%')\n",
    "    print(Style.RESET_ALL, end='')\n",
    "    test_Levels(generated_graph, gen_vertices(i, num_starts))\n",
    "    test_Parents(generated_graph, gen_vertices(i, num_starts))"
   ]
  },
  {
   "cell_type": "markdown",
   "metadata": {},
   "source": [
    "#### 5.2) Зависимость от степени разреженности (при фикс числе вершин и фикс числе стартовых вершин)"
   ]
  },
  {
   "cell_type": "code",
   "execution_count": 14,
   "metadata": {},
   "outputs": [
    {
     "name": "stdout",
     "output_type": "stream",
     "text": [
      "\u001b[1mКоличество вершин: 500, степень разреженности: 0.20, доля стартовых вершин: 50%\n",
      "\u001b[0mMSBFS_Levels:\n",
      "346 ms ± 23.5 ms per loop (mean ± std. dev. of 7 runs, 1 loop each)\n",
      "\n",
      "MSBFS_Parents:\n",
      "256 ms ± 14.7 ms per loop (mean ± std. dev. of 7 runs, 1 loop each)\n",
      "\n",
      "\n",
      "\u001b[1mКоличество вершин: 500, степень разреженности: 0.40, доля стартовых вершин: 50%\n",
      "\u001b[0mMSBFS_Levels:\n",
      "308 ms ± 20.7 ms per loop (mean ± std. dev. of 7 runs, 1 loop each)\n",
      "\n",
      "MSBFS_Parents:\n",
      "311 ms ± 24.9 ms per loop (mean ± std. dev. of 7 runs, 1 loop each)\n",
      "\n",
      "\n",
      "\u001b[1mКоличество вершин: 500, степень разреженности: 0.60, доля стартовых вершин: 50%\n",
      "\u001b[0mMSBFS_Levels:\n",
      "322 ms ± 16.6 ms per loop (mean ± std. dev. of 7 runs, 1 loop each)\n",
      "\n",
      "MSBFS_Parents:\n",
      "411 ms ± 20.7 ms per loop (mean ± std. dev. of 7 runs, 1 loop each)\n",
      "\n",
      "\n",
      "\u001b[1mКоличество вершин: 500, степень разреженности: 0.80, доля стартовых вершин: 50%\n",
      "\u001b[0mMSBFS_Levels:\n",
      "329 ms ± 18 ms per loop (mean ± std. dev. of 7 runs, 1 loop each)\n",
      "\n",
      "MSBFS_Parents:\n",
      "352 ms ± 14.3 ms per loop (mean ± std. dev. of 7 runs, 1 loop each)\n",
      "\n",
      "\n"
     ]
    }
   ],
   "source": [
    "for i in [0.2, 0.4, 0.6, 0.8]:\n",
    "    num_vert, num_starts = 500, 50 # фиксированные число вершин и число стартовых вершин\n",
    "    generated_graph = generate_graph(num_vert, int(i * num_vert * (num_vert-1)))\n",
    "    num_vertices = generated_graph.shape[0]\n",
    "    num_edges = len(generated_graph.to_coo()[0])\n",
    "    rerefaction_deg = num_edges / (num_vertices * (num_vertices - 1))\n",
    "    print(Style.BRIGHT + f'Количество вершин: {num_vertices}, степень разреженности: {rerefaction_deg:.2f}, доля стартовых вершин: {num_starts}%')\n",
    "    print(Style.RESET_ALL, end='')\n",
    "    test_Levels(generated_graph, gen_vertices(num_vert, num_starts))\n",
    "    test_Parents(generated_graph, gen_vertices(num_vert, num_starts))"
   ]
  },
  {
   "cell_type": "markdown",
   "metadata": {},
   "source": [
    "#### 5.3) Зависимость от числа стартовых вершин (при фикс числе вершин и фикс степени разреженности)"
   ]
  },
  {
   "cell_type": "code",
   "execution_count": 15,
   "metadata": {},
   "outputs": [
    {
     "name": "stdout",
     "output_type": "stream",
     "text": [
      "\u001b[1mКоличество вершин: 500, степень разреженности: 0.50, доля стартовых вершин: 20%\n",
      "\u001b[0mMSBFS_Levels:\n",
      "139 ms ± 9.97 ms per loop (mean ± std. dev. of 7 runs, 10 loops each)\n",
      "\n",
      "MSBFS_Parents:\n",
      "263 ms ± 10.3 ms per loop (mean ± std. dev. of 7 runs, 1 loop each)\n",
      "\n",
      "\n",
      "\u001b[1mКоличество вершин: 500, степень разреженности: 0.50, доля стартовых вершин: 40%\n",
      "\u001b[0mMSBFS_Levels:\n",
      "271 ms ± 11.2 ms per loop (mean ± std. dev. of 7 runs, 1 loop each)\n",
      "\n",
      "MSBFS_Parents:\n",
      "361 ms ± 8.8 ms per loop (mean ± std. dev. of 7 runs, 1 loop each)\n",
      "\n",
      "\n",
      "\u001b[1mКоличество вершин: 500, степень разреженности: 0.50, доля стартовых вершин: 60%\n",
      "\u001b[0mMSBFS_Levels:\n",
      "395 ms ± 16.2 ms per loop (mean ± std. dev. of 7 runs, 1 loop each)\n",
      "\n",
      "MSBFS_Parents:\n",
      "485 ms ± 25.7 ms per loop (mean ± std. dev. of 7 runs, 1 loop each)\n",
      "\n",
      "\n",
      "\u001b[1mКоличество вершин: 500, степень разреженности: 0.50, доля стартовых вершин: 80%\n",
      "\u001b[0mMSBFS_Levels:\n",
      "517 ms ± 31.2 ms per loop (mean ± std. dev. of 7 runs, 1 loop each)\n",
      "\n",
      "MSBFS_Parents:\n",
      "573 ms ± 46.1 ms per loop (mean ± std. dev. of 7 runs, 1 loop each)\n",
      "\n",
      "\n"
     ]
    }
   ],
   "source": [
    "for i in [20, 40, 60, 80]:\n",
    "    num_vert, fix_raref_deg = 500, 0.5 # фиксированные число вершин и значение степени разреженности\n",
    "    generated_graph = generate_graph(num_vert, int(fix_raref_deg * num_vert * (num_vert-1)))\n",
    "    num_vertices = generated_graph.shape[0]\n",
    "    num_edges = len(generated_graph.to_coo()[0])\n",
    "    rerefaction_deg = num_edges / (num_vertices * (num_vertices - 1))\n",
    "    print(Style.BRIGHT + f'Количество вершин: {num_vertices}, степень разреженности: {rerefaction_deg:.2f}, доля стартовых вершин: {i}%')\n",
    "    print(Style.RESET_ALL, end='')\n",
    "    test_Levels(generated_graph, gen_vertices(num_vert, i))\n",
    "    test_Parents(generated_graph, gen_vertices(num_vert, i))"
   ]
  },
  {
   "cell_type": "markdown",
   "metadata": {
    "id": "x33ZucuXgiQC"
   },
   "source": [
    "#### 5.4) Выводы"
   ]
  },
  {
   "cell_type": "markdown",
   "metadata": {
    "id": "j9nF3PxoZ_73"
   },
   "source": [
    "- С ростом числа вершин (при степени разреженности = 0.5 и числе стартовых вершин = 50%) увеличивается время работы обоих алгоритмов. Это связано с тем, что увеличивается количество столбцов матриц, что влечет к усложнению произведения матричного умножения. Стоит отметить, что зависимость времени для алгоритма MSBFS_Levels от числа вершин примерно линейная, в то время как для второго алгоритма зависимость уже является степенной.\n",
    "\n",
    "- При увеличении числа стартовых вершин (при фиксированном числе вершин = 500 и степени разреженности = 50%) также можно отметить увеличение времени работы алгоритмов, в обоих случаях зависимость близка к линейной. Это объясняется всё тем же \"удорожанием\" матричного умножения, т.к. увеличение числа стартовых вершин напрямую сказывается на строковой размерности фронта.\n",
    "\n",
    "- При увеличении степени разреженности (при уплотнении графа) какой-то явной зависимости выявлено не было. Более того, по результатам тестов получилось так, что алгоритмы работают быстрее на графах со средней степенью разреженности. В целом, это можно назвать логичным, поскольку алгоритмы адаптируются под реальные графы, а на практике очень редко можно встретить практически полные или совсем разреженные графы.\n",
    "\n",
    "- Что касается сравнения время работы алгоритмов друг с другом, то тут можно сказать следующее: с увеличением размеров графа MSBFS_Parents всё более явно начинает дольше работать, нежели MSBFS_Levels."
   ]
  },
  {
   "cell_type": "markdown",
   "metadata": {},
   "source": [
    "##  6) Реализации алгоритмов с использованием других полуколец  (<code>any.pair</code> для levels и <code>any.first</code> для parents)\n",
    "\n",
    "Все, что меняется в функциях, это то, что изменяется полукольцо в параметре semiring на any_pair и any_first."
   ]
  },
  {
   "cell_type": "code",
   "execution_count": 16,
   "metadata": {},
   "outputs": [],
   "source": [
    "def MSBFS_Levels_anypair(A, start_vertices):\n",
    "    '''0. Проверка того, что граф является ориентированным'''\n",
    "    if A.isequal(A.T) and A.nvals > 0: \n",
    "        raise Exception(\"Error!!! Граф неориентированный!\")\n",
    "        \n",
    "    '''1. Начальные значения параметров'''\n",
    "    n = A.nrows # число вершин\n",
    "    m = start_vertices.size # число стартовых вершин\n",
    "    result = Matrix(dtypes.INT32, m, n) # размеры результирующей матрицы\n",
    "    f = Matrix(bool, m, n) # фронт\n",
    "    succ = Vector(bool, m) # вектор, показывающий доступность вершин из текущей\n",
    "    \n",
    "    #в матрице f проставление True в ячейках стартовых вершин\n",
    "    for i in range(m):\n",
    "        f[i, start_vertices[i]] << True \n",
    "    \n",
    "    '''2. Обход графа'''\n",
    "    level = 0\n",
    "    while True:\n",
    "        # стартовые вершины заполняются как 0-ой уровень\n",
    "        result(mask=f.V) << level \n",
    "        # расчет следующего фронта (перемножение матриц + маска)\n",
    "        '''полукольцо any_pair'''\n",
    "        f(~result.S, replace=True) << f.mxm(A, semiring.any_pair) \n",
    "        # для каждой стартовой вершины заполнение вектора наличия доступных вершин\n",
    "        for i in range(m):\n",
    "            succ[i] << f[i,:].reduce(monoid.lor, allow_empty=False) \n",
    "            \n",
    "        # проверка критерия остановки цикла while (ни из одной стартовой вершины на очередной итерации нет доступных вершин?)\n",
    "        finish_flg = True\n",
    "        for i in range(m):\n",
    "            # если хотя бы один элемент True, цикл завершаем меняя флаг\n",
    "            if succ[i]:\n",
    "                finish_flg = False\n",
    "                break\n",
    "                \n",
    "        # если флаг так и остался True (ни одного срабатывания), то цикл while завершается \n",
    "        if finish_flg:\n",
    "            break\n",
    "            \n",
    "        level += 1    \n",
    "    '''3. Приведение результата к нужному формату'''\n",
    "    # заполнение недоступных вершин дефолтными значениями (-1)\n",
    "    # и преобразование результата в следующий формат: словарь, где ключ - номер вершины, значение - массив номеров уровней\n",
    "    res = result.to_dense(fill_value=-1)\n",
    "    output = {}\n",
    "    for i, vert in enumerate(start_vertices):\n",
    "        output[vert] = res[i, :]\n",
    "        \n",
    "    return output "
   ]
  },
  {
   "cell_type": "code",
   "execution_count": 17,
   "metadata": {},
   "outputs": [],
   "source": [
    "def MSBFS_Parents_anyfirst(A, start_vertices):\n",
    "    '''0. Проверка того, что граф является ориентированным'''\n",
    "    if A.isequal(A.T) and A.nvals > 0: \n",
    "        raise Exception(\"Error!!! Граф неориентированный!\")\n",
    "\n",
    "    '''1. Начальные значения параметров'''\n",
    "    N = A.nrows # число вершин\n",
    "    M = start_vertices.size # число стартовых вершин\n",
    "\n",
    "    # генерация матрицы, где идентификатор вершины равен значению\n",
    "    index_ramp = Matrix(dtypes.UINT64, M, N)\n",
    "    for j in range(N):\n",
    "        index_ramp[:,j] << j\n",
    "        \n",
    "    parents, wavefront = Matrix(dtypes.INT64, M, N), Matrix(dtypes.UINT64, M, N)\n",
    "    \n",
    "    # заполнение стартовыми значениями матриц parents, wavefront\n",
    "    for i in range(M):\n",
    "        parents[i, start_vertices[i]] << start_vertices[i] \n",
    "        wavefront[i, start_vertices[i]] << 1\n",
    "        \n",
    "    '''2. Обход графа'''\n",
    "    while wavefront.nvals > 0:\n",
    "        # Преобразование всех сохраненных значений в wavefront в их индекc\n",
    "        wavefront << index_ramp.ewise_mult(wavefront, binary.first) \n",
    "        # маскирование родительского списка\n",
    "        '''полукольцо any_first'''\n",
    "        wavefront(~parents.S, replace=True) << wavefront.mxm(A, semiring.any_first) \n",
    "        # Объединение новых родительских элементов в текущий волновой фронт с существующими родителями\n",
    "        parents(binary.plus) << wavefront \n",
    "    \n",
    "    '''3. Приведение результата к нужному формату'''\n",
    "    # заполнение недоступных вершин дефолтными значениями (-2), для стартовых вершин -1\n",
    "    # и преобразование результата в следующий формат: словарь, где ключ - номер вершины, значение - массив родительских вершин\n",
    "    for ind in range(len(start_vertices)):\n",
    "        parents[ind, start_vertices[ind]] << -1\n",
    "    \n",
    "    res = parents.to_dense(fill_value=-2)\n",
    "    output = {}\n",
    "    for i, vert in enumerate(start_vertices):\n",
    "        output[vert] = res[i, :]\n",
    "    \n",
    "    return output "
   ]
  },
  {
   "cell_type": "code",
   "execution_count": 18,
   "metadata": {},
   "outputs": [],
   "source": [
    "'''Функции для тестирования'''\n",
    "# тестирование функции \"MSBFS_Levels_anypair\"\n",
    "def test_Levels_anypair(A, start_vertices):\n",
    "    print('MSBFS_Levels_anypair:')\n",
    "    %timeit MSBFS_Levels_anypair(A, start_vertices)\n",
    "    print()\n",
    "\n",
    "    \n",
    "# тестирование функции \"MSBFS_Levels_anyfirst\"\n",
    "def test_Parents_anyfirst(A, start_vertices):\n",
    "    print('MSBFS_Parents_anyfirst:')\n",
    "    %timeit MSBFS_Parents_anyfirst(A, start_vertices)\n",
    "    print('\\n')"
   ]
  },
  {
   "cell_type": "markdown",
   "metadata": {},
   "source": [
    "## 6.1) Тестирование на тех же графах с  [SuiteSparse Matrix Collection](https://sparse.tamu.edu)\n"
   ]
  },
  {
   "cell_type": "code",
   "execution_count": 19,
   "metadata": {
    "scrolled": false
   },
   "outputs": [
    {
     "name": "stdout",
     "output_type": "stream",
     "text": [
      "\u001b[1mДля GD00_a.mtx (Количество вершин: 352, количество ребер: 458), степень разреженности: 0.0037\n",
      "\u001b[0mКоличество стартовых вершин: 17\n",
      "MSBFS_Levels_anypair:\n",
      "39.9 ms ± 3.47 ms per loop (mean ± std. dev. of 7 runs, 10 loops each)\n",
      "\n",
      "Количество стартовых вершин: 123\n",
      "MSBFS_Levels_anypair:\n",
      "286 ms ± 5.79 ms per loop (mean ± std. dev. of 7 runs, 1 loop each)\n",
      "\n",
      "Количество стартовых вершин: 246\n",
      "MSBFS_Levels_anypair:\n",
      "578 ms ± 19.2 ms per loop (mean ± std. dev. of 7 runs, 1 loop each)\n",
      "\n",
      "Количество стартовых вершин: 334\n",
      "MSBFS_Levels_anypair:\n",
      "778 ms ± 27.3 ms per loop (mean ± std. dev. of 7 runs, 1 loop each)\n",
      "\n",
      "\n",
      "\u001b[1mДля CSphd.mtx (Количество вершин: 1882, количество ребер: 1740), степень разреженности: 0.0005\n",
      "\u001b[0mКоличество стартовых вершин: 94\n",
      "MSBFS_Levels_anypair:\n",
      "427 ms ± 21 ms per loop (mean ± std. dev. of 7 runs, 1 loop each)\n",
      "\n",
      "Количество стартовых вершин: 658\n",
      "MSBFS_Levels_anypair:\n",
      "2.5 s ± 77.6 ms per loop (mean ± std. dev. of 7 runs, 1 loop each)\n",
      "\n",
      "Количество стартовых вершин: 1317\n",
      "MSBFS_Levels_anypair:\n",
      "5.97 s ± 117 ms per loop (mean ± std. dev. of 7 runs, 1 loop each)\n",
      "\n",
      "Количество стартовых вершин: 1787\n",
      "MSBFS_Levels_anypair:\n",
      "7.51 s ± 928 ms per loop (mean ± std. dev. of 7 runs, 1 loop each)\n",
      "\n",
      "\n",
      "\u001b[1mДля EPA.mtx (Количество вершин: 4772, количество ребер: 8965), степень разреженности: 0.0004\n",
      "\u001b[0mКоличество стартовых вершин: 238\n",
      "MSBFS_Levels_anypair:\n",
      "866 ms ± 47.9 ms per loop (mean ± std. dev. of 7 runs, 1 loop each)\n",
      "\n",
      "Количество стартовых вершин: 1670\n",
      "MSBFS_Levels_anypair:\n",
      "6.15 s ± 68.2 ms per loop (mean ± std. dev. of 7 runs, 1 loop each)\n",
      "\n",
      "Количество стартовых вершин: 3340\n",
      "MSBFS_Levels_anypair:\n",
      "12.4 s ± 80.1 ms per loop (mean ± std. dev. of 7 runs, 1 loop each)\n",
      "\n",
      "Количество стартовых вершин: 4533\n",
      "MSBFS_Levels_anypair:\n",
      "16.8 s ± 156 ms per loop (mean ± std. dev. of 7 runs, 1 loop each)\n",
      "\n",
      "\n"
     ]
    }
   ],
   "source": [
    "'''Тестирование функции MSBFS-Levels_anypair'''\n",
    "# 1. Зависимость времени работы от размера графа (и степени разреженности)\n",
    "for graph_name in graph_names:\n",
    "    graph = mmread(f'DataLab2/{graph_name}.mtx')\n",
    "    num_vertices = graph.shape[0]\n",
    "    num_edges = len(graph.to_coo()[0])\n",
    "    rerefaction_deg = num_edges / (num_vertices * (num_vertices - 1))\n",
    "    print(Style.BRIGHT + f'Для {graph_name}.mtx (Количество вершин: {num_vertices}, количество ребер: {num_edges}), степень разреженности: {rerefaction_deg:.4f}')\n",
    "    print(Style.RESET_ALL, end='')\n",
    "    \n",
    "    # 2. Зависимость времени работы от числа стартовых вершин\n",
    "    for vertex_frac in vertex_fracs:\n",
    "        print(f'Количество стартовых вершин: {int(vertex_frac / 100 * graph.nrows)}')\n",
    "        test_Levels_anypair(graph, gen_vertices(graph.nrows, vertex_frac))\n",
    "    print()"
   ]
  },
  {
   "cell_type": "code",
   "execution_count": 20,
   "metadata": {},
   "outputs": [
    {
     "name": "stdout",
     "output_type": "stream",
     "text": [
      "\u001b[1mДля GD00_a.mtx (Количество вершин: 352, количество ребер: 458), степень разреженности: 0.0037\n",
      "\u001b[0mКоличество стартовых вершин: 17\n",
      "MSBFS_Parents_anyfirst:\n",
      "103 ms ± 7.26 ms per loop (mean ± std. dev. of 7 runs, 10 loops each)\n",
      "\n",
      "\n",
      "Количество стартовых вершин: 123\n",
      "MSBFS_Parents_anyfirst:\n",
      "145 ms ± 1.09 ms per loop (mean ± std. dev. of 7 runs, 10 loops each)\n",
      "\n",
      "\n",
      "Количество стартовых вершин: 246\n",
      "MSBFS_Parents_anyfirst:\n",
      "199 ms ± 13.4 ms per loop (mean ± std. dev. of 7 runs, 10 loops each)\n",
      "\n",
      "\n",
      "Количество стартовых вершин: 334\n",
      "MSBFS_Parents_anyfirst:\n",
      "223 ms ± 8.25 ms per loop (mean ± std. dev. of 7 runs, 1 loop each)\n",
      "\n",
      "\n",
      "\n",
      "\u001b[1mДля CSphd.mtx (Количество вершин: 1882, количество ребер: 1740), степень разреженности: 0.0005\n",
      "\u001b[0mКоличество стартовых вершин: 94\n",
      "MSBFS_Parents_anyfirst:\n",
      "587 ms ± 22.9 ms per loop (mean ± std. dev. of 7 runs, 1 loop each)\n",
      "\n",
      "\n",
      "Количество стартовых вершин: 658\n",
      "MSBFS_Parents_anyfirst:\n",
      "872 ms ± 31.5 ms per loop (mean ± std. dev. of 7 runs, 1 loop each)\n",
      "\n",
      "\n",
      "Количество стартовых вершин: 1317\n",
      "MSBFS_Parents_anyfirst:\n",
      "1.2 s ± 49.1 ms per loop (mean ± std. dev. of 7 runs, 1 loop each)\n",
      "\n",
      "\n",
      "Количество стартовых вершин: 1787\n",
      "MSBFS_Parents_anyfirst:\n",
      "1.45 s ± 32.3 ms per loop (mean ± std. dev. of 7 runs, 1 loop each)\n",
      "\n",
      "\n",
      "\n",
      "\u001b[1mДля EPA.mtx (Количество вершин: 4772, количество ребер: 8965), степень разреженности: 0.0004\n",
      "\u001b[0mКоличество стартовых вершин: 238\n",
      "MSBFS_Parents_anyfirst:\n",
      "1.54 s ± 29.9 ms per loop (mean ± std. dev. of 7 runs, 1 loop each)\n",
      "\n",
      "\n",
      "Количество стартовых вершин: 1670\n",
      "MSBFS_Parents_anyfirst:\n",
      "2.9 s ± 38.7 ms per loop (mean ± std. dev. of 7 runs, 1 loop each)\n",
      "\n",
      "\n",
      "Количество стартовых вершин: 3340\n",
      "MSBFS_Parents_anyfirst:\n",
      "4.41 s ± 72.8 ms per loop (mean ± std. dev. of 7 runs, 1 loop each)\n",
      "\n",
      "\n",
      "Количество стартовых вершин: 4533\n",
      "MSBFS_Parents_anyfirst:\n",
      "5.57 s ± 123 ms per loop (mean ± std. dev. of 7 runs, 1 loop each)\n",
      "\n",
      "\n",
      "\n"
     ]
    }
   ],
   "source": [
    "'''Тестирование функции MSBFS-Parents_anyfirst'''\n",
    "# 1. Зависимость времени работы от размера графа (и степени разреженности)\n",
    "for graph_name in graph_names:\n",
    "    graph = mmread(f'DataLab2/{graph_name}.mtx')\n",
    "    num_vertices = graph.shape[0]\n",
    "    num_edges = len(graph.to_coo()[0])\n",
    "    rerefaction_deg = num_edges / (num_vertices * (num_vertices - 1))\n",
    "    print(Style.BRIGHT + f'Для {graph_name}.mtx (Количество вершин: {num_vertices}, количество ребер: {num_edges}), степень разреженности: {rerefaction_deg:.4f}')\n",
    "    print(Style.RESET_ALL, end='')\n",
    "    \n",
    "    # 2. Зависимость времени работы от числа стартовых вершин\n",
    "    for vertex_frac in vertex_fracs:\n",
    "        print(f'Количество стартовых вершин: {int(vertex_frac / 100 * graph.nrows)}')\n",
    "        test_Parents_anyfirst(graph, gen_vertices(graph.nrows, vertex_frac))\n",
    "    print()"
   ]
  },
  {
   "cell_type": "markdown",
   "metadata": {},
   "source": [
    "## 6.2) Тестирование на случайно сгенерированных графах"
   ]
  },
  {
   "cell_type": "markdown",
   "metadata": {},
   "source": [
    "#### 6.2.1) Зависимость от числа вершин (при фикс степени разреженности и фикс числе стартовых вершин)"
   ]
  },
  {
   "cell_type": "code",
   "execution_count": 21,
   "metadata": {},
   "outputs": [
    {
     "name": "stdout",
     "output_type": "stream",
     "text": [
      "\u001b[1mКоличество вершин: 100, степень разреженности: 0.50, доля стартовых вершин: 50%\n",
      "\u001b[0mMSBFS_Levels_anypair:\n",
      "62.4 ms ± 2.58 ms per loop (mean ± std. dev. of 7 runs, 10 loops each)\n",
      "\n",
      "MSBFS_Parents_anyfirst:\n",
      "48.5 ms ± 1.22 ms per loop (mean ± std. dev. of 7 runs, 10 loops each)\n",
      "\n",
      "\n",
      "\u001b[1mКоличество вершин: 200, степень разреженности: 0.50, доля стартовых вершин: 50%\n",
      "\u001b[0mMSBFS_Levels_anypair:\n",
      "123 ms ± 3.1 ms per loop (mean ± std. dev. of 7 runs, 10 loops each)\n",
      "\n",
      "MSBFS_Parents_anyfirst:\n",
      "106 ms ± 2.79 ms per loop (mean ± std. dev. of 7 runs, 10 loops each)\n",
      "\n",
      "\n",
      "\u001b[1mКоличество вершин: 400, степень разреженности: 0.50, доля стартовых вершин: 50%\n",
      "\u001b[0mMSBFS_Levels_anypair:\n",
      "256 ms ± 6.77 ms per loop (mean ± std. dev. of 7 runs, 1 loop each)\n",
      "\n",
      "MSBFS_Parents_anyfirst:\n",
      "287 ms ± 13.8 ms per loop (mean ± std. dev. of 7 runs, 1 loop each)\n",
      "\n",
      "\n",
      "\u001b[1mКоличество вершин: 800, степень разреженности: 0.50, доля стартовых вершин: 50%\n",
      "\u001b[0mMSBFS_Levels_anypair:\n",
      "556 ms ± 18.3 ms per loop (mean ± std. dev. of 7 runs, 1 loop each)\n",
      "\n",
      "MSBFS_Parents_anyfirst:\n",
      "1.01 s ± 24 ms per loop (mean ± std. dev. of 7 runs, 1 loop each)\n",
      "\n",
      "\n"
     ]
    }
   ],
   "source": [
    "for i in [100, 200, 400, 800]:\n",
    "    fix_raref_deg, num_starts = 0.5, 50 # фиксированные значения степени разреженности и числа стартовых вершин\n",
    "    generated_graph = generate_graph(i, int(fix_raref_deg * i * (i-1)))\n",
    "    num_vertices = generated_graph.shape[0]\n",
    "    num_edges = len(generated_graph.to_coo()[0])\n",
    "    rerefaction_deg = num_edges / (num_vertices * (num_vertices - 1))\n",
    "    print(Style.BRIGHT + f'Количество вершин: {num_vertices}, степень разреженности: {rerefaction_deg:.2f}, доля стартовых вершин: {num_starts}%')\n",
    "    print(Style.RESET_ALL, end='')\n",
    "    test_Levels_anypair(generated_graph, gen_vertices(i, num_starts))\n",
    "    test_Parents_anyfirst(generated_graph, gen_vertices(i, num_starts))"
   ]
  },
  {
   "cell_type": "markdown",
   "metadata": {},
   "source": [
    "#### 6.2.2) Зависимость от степени разреженности (при фикс числе вершин и фикс числе стартовых вершин)"
   ]
  },
  {
   "cell_type": "code",
   "execution_count": 22,
   "metadata": {},
   "outputs": [
    {
     "name": "stdout",
     "output_type": "stream",
     "text": [
      "\u001b[1mКоличество вершин: 500, степень разреженности: 0.20, доля стартовых вершин: 50%\n",
      "\u001b[0mMSBFS_Levels_anypair:\n",
      "339 ms ± 44.3 ms per loop (mean ± std. dev. of 7 runs, 1 loop each)\n",
      "\n",
      "MSBFS_Parents_anyfirst:\n",
      "268 ms ± 15.1 ms per loop (mean ± std. dev. of 7 runs, 1 loop each)\n",
      "\n",
      "\n",
      "\u001b[1mКоличество вершин: 500, степень разреженности: 0.40, доля стартовых вершин: 50%\n",
      "\u001b[0mMSBFS_Levels_anypair:\n",
      "320 ms ± 13 ms per loop (mean ± std. dev. of 7 runs, 1 loop each)\n",
      "\n",
      "MSBFS_Parents_anyfirst:\n",
      "297 ms ± 25.3 ms per loop (mean ± std. dev. of 7 runs, 1 loop each)\n",
      "\n",
      "\n",
      "\u001b[1mКоличество вершин: 500, степень разреженности: 0.60, доля стартовых вершин: 50%\n",
      "\u001b[0mMSBFS_Levels_anypair:\n",
      "324 ms ± 4.86 ms per loop (mean ± std. dev. of 7 runs, 10 loops each)\n",
      "\n",
      "MSBFS_Parents_anyfirst:\n",
      "392 ms ± 16.6 ms per loop (mean ± std. dev. of 7 runs, 1 loop each)\n",
      "\n",
      "\n",
      "\u001b[1mКоличество вершин: 500, степень разреженности: 0.80, доля стартовых вершин: 50%\n",
      "\u001b[0mMSBFS_Levels_anypair:\n",
      "314 ms ± 14.9 ms per loop (mean ± std. dev. of 7 runs, 1 loop each)\n",
      "\n",
      "MSBFS_Parents_anyfirst:\n",
      "332 ms ± 3.7 ms per loop (mean ± std. dev. of 7 runs, 1 loop each)\n",
      "\n",
      "\n"
     ]
    }
   ],
   "source": [
    "for i in [0.2, 0.4, 0.6, 0.8]:\n",
    "    num_vert, num_starts = 500, 50 # фиксированные число вершин и число стартовых вершин\n",
    "    generated_graph = generate_graph(num_vert, int(i * num_vert * (num_vert-1)))\n",
    "    num_vertices = generated_graph.shape[0]\n",
    "    num_edges = len(generated_graph.to_coo()[0])\n",
    "    rerefaction_deg = num_edges / (num_vertices * (num_vertices - 1))\n",
    "    print(Style.BRIGHT + f'Количество вершин: {num_vertices}, степень разреженности: {rerefaction_deg:.2f}, доля стартовых вершин: {num_starts}%')\n",
    "    print(Style.RESET_ALL, end='')\n",
    "    test_Levels_anypair(generated_graph, gen_vertices(num_vert, num_starts))\n",
    "    test_Parents_anyfirst(generated_graph, gen_vertices(num_vert, num_starts))"
   ]
  },
  {
   "cell_type": "markdown",
   "metadata": {},
   "source": [
    "#### 6.2.3) Зависимость от числа стартовых вершин (при фикс числе вершин и фикс степени разреженности)"
   ]
  },
  {
   "cell_type": "code",
   "execution_count": 23,
   "metadata": {},
   "outputs": [
    {
     "name": "stdout",
     "output_type": "stream",
     "text": [
      "\u001b[1mКоличество вершин: 500, степень разреженности: 0.50, доля стартовых вершин: 20%\n",
      "\u001b[0mMSBFS_Levels_anypair:\n",
      "136 ms ± 2.43 ms per loop (mean ± std. dev. of 7 runs, 10 loops each)\n",
      "\n",
      "MSBFS_Parents_anyfirst:\n",
      "259 ms ± 11.9 ms per loop (mean ± std. dev. of 7 runs, 1 loop each)\n",
      "\n",
      "\n",
      "\u001b[1mКоличество вершин: 500, степень разреженности: 0.50, доля стартовых вершин: 40%\n",
      "\u001b[0mMSBFS_Levels_anypair:\n",
      "263 ms ± 18.3 ms per loop (mean ± std. dev. of 7 runs, 1 loop each)\n",
      "\n",
      "MSBFS_Parents_anyfirst:\n",
      "353 ms ± 15.9 ms per loop (mean ± std. dev. of 7 runs, 1 loop each)\n",
      "\n",
      "\n",
      "\u001b[1mКоличество вершин: 500, степень разреженности: 0.50, доля стартовых вершин: 60%\n",
      "\u001b[0mMSBFS_Levels_anypair:\n",
      "403 ms ± 32.2 ms per loop (mean ± std. dev. of 7 runs, 1 loop each)\n",
      "\n",
      "MSBFS_Parents_anyfirst:\n",
      "446 ms ± 19.1 ms per loop (mean ± std. dev. of 7 runs, 1 loop each)\n",
      "\n",
      "\n",
      "\u001b[1mКоличество вершин: 500, степень разреженности: 0.50, доля стартовых вершин: 80%\n",
      "\u001b[0mMSBFS_Levels_anypair:\n",
      "533 ms ± 33.8 ms per loop (mean ± std. dev. of 7 runs, 1 loop each)\n",
      "\n",
      "MSBFS_Parents_anyfirst:\n",
      "544 ms ± 29.4 ms per loop (mean ± std. dev. of 7 runs, 1 loop each)\n",
      "\n",
      "\n"
     ]
    }
   ],
   "source": [
    "for i in [20, 40, 60, 80]:\n",
    "    num_vert, fix_raref_deg = 500, 0.5 # фиксированные число вершин и значение степени разреженности\n",
    "    generated_graph = generate_graph(num_vert, int(fix_raref_deg * num_vert * (num_vert-1)))\n",
    "    num_vertices = generated_graph.shape[0]\n",
    "    num_edges = len(generated_graph.to_coo()[0])\n",
    "    rerefaction_deg = num_edges / (num_vertices * (num_vertices - 1))\n",
    "    print(Style.BRIGHT + f'Количество вершин: {num_vertices}, степень разреженности: {rerefaction_deg:.2f}, доля стартовых вершин: {i}%')\n",
    "    print(Style.RESET_ALL, end='')\n",
    "    test_Levels_anypair(generated_graph, gen_vertices(num_vert, i))\n",
    "    test_Parents_anyfirst(generated_graph, gen_vertices(num_vert, i))"
   ]
  },
  {
   "cell_type": "markdown",
   "metadata": {
    "id": "XYVg0CGg_Es5"
   },
   "source": [
    "**Выводы**"
   ]
  },
  {
   "cell_type": "markdown",
   "metadata": {
    "id": "avoi3XjX_ISe"
   },
   "source": [
    "При сравнении алгоритмов с различными полукольцами можно сделать вывод о том, что в целом время отработки алгоритмов практически не изменилось. Однако есть небольшое отличие: можно заметить, что в крайних случаях (небольшие графы / очень разреженные / очень плотные/ небольшое число стартовых вершин) алгоритмы в начальном кольце работает чуть-чуть. "
   ]
  },
  {
   "cell_type": "code",
   "execution_count": null,
   "metadata": {},
   "outputs": [],
   "source": []
  }
 ],
 "metadata": {
  "colab": {
   "provenance": []
  },
  "kernelspec": {
   "display_name": "Python 3 (ipykernel)",
   "language": "python",
   "name": "python3"
  },
  "language_info": {
   "codemirror_mode": {
    "name": "ipython",
    "version": 3
   },
   "file_extension": ".py",
   "mimetype": "text/x-python",
   "name": "python",
   "nbconvert_exporter": "python",
   "pygments_lexer": "ipython3",
   "version": "3.11.5"
  },
  "varInspector": {
   "cols": {
    "lenName": 16,
    "lenType": 16,
    "lenVar": 40
   },
   "kernels_config": {
    "python": {
     "delete_cmd_postfix": "",
     "delete_cmd_prefix": "del ",
     "library": "var_list.py",
     "varRefreshCmd": "print(var_dic_list())"
    },
    "r": {
     "delete_cmd_postfix": ") ",
     "delete_cmd_prefix": "rm(",
     "library": "var_list.r",
     "varRefreshCmd": "cat(var_dic_list()) "
    }
   },
   "types_to_exclude": [
    "module",
    "function",
    "builtin_function_or_method",
    "instance",
    "_Feature"
   ],
   "window_display": false
  }
 },
 "nbformat": 4,
 "nbformat_minor": 1
}
