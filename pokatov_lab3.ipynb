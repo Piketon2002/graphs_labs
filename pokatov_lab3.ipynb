{
 "cells": [
  {
   "cell_type": "markdown",
   "id": "cf64c856",
   "metadata": {},
   "source": [
    "# Лабораторная работа №3"
   ]
  },
  {
   "cell_type": "code",
   "execution_count": 234,
   "id": "8bc38fe1",
   "metadata": {},
   "outputs": [],
   "source": [
    "import numpy as np\n",
    "import pandas as pd\n",
    "import networkx as nx\n",
    "import matplotlib.pyplot as plt\n",
    "import graphblas as gb\n",
    "from graphblas import Matrix, Vector, Scalar\n",
    "from graphblas import dtypes\n",
    "from graphblas import unary, binary, monoid, semiring\n",
    "from graphblas.io import mmread\n",
    "import random\n",
    "import os\n",
    "from colorama import Style\n",
    "import seaborn as sns"
   ]
  },
  {
   "cell_type": "markdown",
   "id": "e3b8df93",
   "metadata": {},
   "source": [
    "# 1)  Bellman–Ford\n",
    "Функция возвращает массив, где для каждой вершины указано расстояние до неё от указанной стартовой вершины. Если вершина не достижима или кратчайшего пути для неё не существует, то значение соответствующей ячейки равно float('inf')."
   ]
  },
  {
   "cell_type": "code",
   "execution_count": 82,
   "id": "7839ff3d",
   "metadata": {},
   "outputs": [],
   "source": [
    "def BellmanFord(A, start_vertex):\n",
    "    '''0. Инициализация output - вектора'''\n",
    "    w = Vector(A.dtype, A.nrows) # вектор длиной равной числу вершин графа\n",
    "    w[start_vertex] << 0 # путь из себя в себя равен 0\n",
    "    \n",
    "    '''1. Пробег по графу'''\n",
    "    for i in range(A.nrows-1):\n",
    "        w_old = w.dup()\n",
    "        w(binary.min) << w.vxm(A, semiring.min_plus)\n",
    "        if w.isequal(w_old):\n",
    "            break\n",
    "            \n",
    "    '''2. Проверка отсутствия циклов отрицательного веса'''\n",
    "    w_old = w.dup()\n",
    "    w(binary.min) << w.vxm(A, semiring.min_plus)\n",
    "    if not w.isequal(w_old):\n",
    "        raise Exception(\"В графе есть цикл отрицательного веса\")\n",
    "        \n",
    "    '''3. Формирование ответа'''\n",
    "    return w.to_dense(fill_value=float('inf'))"
   ]
  },
  {
   "cell_type": "markdown",
   "id": "b574246d",
   "metadata": {},
   "source": [
    "# 2) Bellman - Ford модифицированный\n",
    "Функция возвращает массив пар: вершина, и массив, где для каждой вершины указано расстояние до неё из указанной. Если вершина не достижима или кратчайшего пути для неё не существует, то значение соответствующей ячейки равно float('inf')."
   ]
  },
  {
   "cell_type": "code",
   "execution_count": 116,
   "id": "923e597b",
   "metadata": {},
   "outputs": [],
   "source": [
    "def BellmanFordModify(A, start_vertices):\n",
    "    '''0. Инициализация output - массива'''\n",
    "    rows = start_vertices.size\n",
    "    cols = A.ncols\n",
    "    w = Matrix(dtypes.INT32, rows, cols)\n",
    "    for i in range(rows):\n",
    "        w[i, start_vertices[i]] << 0\n",
    "        \n",
    "    '''1. Пробег по графу'''    \n",
    "    for _ in range(cols-1):\n",
    "        w_old = w.dup()\n",
    "        for i in range(rows):\n",
    "            w[i,:](binary.min) << w[i,:].vxm(A, semiring.min_plus)\n",
    "        if w.isequal(w_old):\n",
    "            break\n",
    "            \n",
    "    '''2. Проверка отсутствия циклов отрицательного веса'''\n",
    "    w_old = w.dup()\n",
    "    for i in range(rows):\n",
    "        w[i,:](binary.min) << w[i,:].vxm(A, semiring.min_plus)\n",
    "    if not w.isequal(w_old):\n",
    "        raise Exception(\"В графе есть цикл отрицательного веса\")\n",
    "    \n",
    "    '''3. Формирование ответа'''\n",
    "    w_out = w.to_dense(fill_value=float('inf'))\n",
    "    output = {}\n",
    "    for i in range(rows):\n",
    "        output[start_vertices[i]] = w_out[i]\n",
    "    return output"
   ]
  },
  {
   "cell_type": "markdown",
   "id": "2f236ec0",
   "metadata": {},
   "source": [
    "# 3) Floyd–Warshall\n",
    "Функция возвращает массив пар: вершина, и массив, где для каждой вершины указано расстояние до неё из указанной. Если вершина не достижима или кратчайшего пути для неё не существует, то значение соответствующей ячейки равно float('inf')."
   ]
  },
  {
   "cell_type": "code",
   "execution_count": 129,
   "id": "06624de1",
   "metadata": {},
   "outputs": [],
   "source": [
    "def FloydWarshall(A):\n",
    "    '''0. Инициализация output - массива и необходимых параметров'''\n",
    "    D, rows, cur_D = A.dup(), A.nrows, A.dup()\n",
    "    \n",
    "    '''1. Пробег по графу'''\n",
    "    for k in range(rows):\n",
    "        # временные-матрицы для удобства умножения ниже\n",
    "        D_col, D_row = Matrix(dtypes.INT32, rows, rows), Matrix(dtypes.INT32, rows, rows)\n",
    "        D_col[:,k]=D[:,k].dup()\n",
    "        D_row[k,:]=D[k,:].dup()\n",
    "        cur_D << D_col.mxm(D_row, semiring.min_plus)\n",
    "        D << D.ewise_add(cur_D, op=\"min\") #None-значения -> бесконечно большие\n",
    "        \n",
    "    '''2. Проверка отсутствия циклов отрицательного веса'''\n",
    "    # копии D, cur_D и новые D_col, D_row\n",
    "    D1, cur_D1, D_col1, D_row1 = D.dup(), cur_D.dup(), Matrix(dtypes.INT32, rows, rows), Matrix(dtypes.INT32, rows, rows)\n",
    "    D_col1[:,k]=D1[:,k].dup()\n",
    "    D_row1[k,:]=D1[k,:].dup()\n",
    "    cur_D1 << D_col1.mxm(D_row1, semiring.min_plus)\n",
    "    D1 << D1.ewise_add(cur_D1, op=\"min\")\n",
    "    if not D1.isequal(D):\n",
    "        raise Exception(\"В графе есть цикл отрицательного веса\")\n",
    "    \n",
    "    '''3. Формирование ответа'''\n",
    "    D_out = D.to_dense(fill_value=float('inf'))\n",
    "    # диагональные элементы равны 0 (из вершины в себя)\n",
    "    for i in range(len(D_out)):\n",
    "        D_out[i, i] = 0\n",
    "        \n",
    "    output = {}\n",
    "    for i in range(rows):\n",
    "        output[i] = D_out[i]\n",
    "    return output"
   ]
  },
  {
   "cell_type": "markdown",
   "id": "8c88e507",
   "metadata": {},
   "source": [
    "# 4) Transitive Closure\n",
    "Функция возвращает массив пар: вершина, и массив, где для каждой вершины указано расстояние до неё из указанной. Если вершина не достижима или кратчайшего пути для неё не существует, то значение соответствующей ячейки равно float('inf')."
   ]
  },
  {
   "cell_type": "code",
   "execution_count": 147,
   "id": "3bfb70cf",
   "metadata": {},
   "outputs": [],
   "source": [
    "def TransitiveClosure(A):\n",
    "    '''0. Создание единичной матрицы'''\n",
    "    rows = A.nrows\n",
    "    I = Matrix(dtypes.INT32, rows, rows)\n",
    "    for i in range(rows):\n",
    "        I[i,i] << 1\n",
    "    D = I.dup()\n",
    "    \n",
    "    '''1. Пробег по графу'''\n",
    "    for i in range(rows):\n",
    "        D1 = D.dup()\n",
    "        D = D.mxm(A, semiring.min_plus).ewise_add(I, op=\"min\")\n",
    "        if D1.isequal(D):\n",
    "            break\n",
    "    \n",
    "    '''2. Проверка отсутствия циклов отрицательного веса'''\n",
    "    D2 = D.dup()\n",
    "    D2 = D2.mxm(A, semiring.min_plus).ewise_add(I, op=\"min\")\n",
    "    if not D2.isequal(D):\n",
    "        raise Exception(\"В графе есть цикл отрицательного веса\")\n",
    "    \n",
    "    '''3. Формирование ответа'''\n",
    "    D_out = D.to_dense(fill_value=float('inf'))      \n",
    "    output = {}\n",
    "    for i in range(rows):\n",
    "        output[i] = D_out[i] - 1\n",
    "    return output"
   ]
  },
  {
   "cell_type": "markdown",
   "id": "723f4da4",
   "metadata": {},
   "source": [
    "# 5) Проверка корректности работы алгоритмов"
   ]
  },
  {
   "cell_type": "code",
   "execution_count": 83,
   "id": "3fb72d83",
   "metadata": {},
   "outputs": [
    {
     "data": {
      "image/png": "[encoded data removed]",
      "text/plain": [
       "<Figure size 640x480 with 1 Axes>"
      ]
     },
     "metadata": {},
     "output_type": "display_data"
    }
   ],
   "source": [
    "'''а) Создадим граф с 7 вершинами'''\n",
    "matrix1 = np.array([\n",
    "    [0, 6, 2, 0, 0, 7, 0],\n",
    "    [0, 0, 4, 0, 0, 0, 0],\n",
    "    [2, 0, 0, 5, 0, 0, 0],\n",
    "    [0, 0, 5, 0, 0, 0, 0],\n",
    "    [0, 0, 0, 1, 0, 8, 0],\n",
    "    [0, 0, 1, 0, 8, 0, 0],\n",
    "    [1, 0, 0, 0, 0, 2, 0]\n",
    "])\n",
    "M1 = gb.Matrix.from_dense(matrix1, missing_value=0)\n",
    "\n",
    "gb.viz.draw(M1)"
   ]
  },
  {
   "cell_type": "code",
   "execution_count": 197,
   "id": "e6be36a9",
   "metadata": {},
   "outputs": [
    {
     "name": "stdout",
     "output_type": "stream",
     "text": [
      "BellmanFord примеры:\n",
      "1: [ 6.  0.  4.  9. 21. 13. inf]\n",
      "4: [ 8. 14.  6.  1.  0.  8. inf]\n",
      "\n",
      "BellmanFordModify:\n",
      "{1: array([ 6.,  0.,  4.,  9., 21., 13., inf]), 4: array([ 8., 14.,  6.,  1.,  0.,  8., inf]), 3: array([ 7., 13.,  5.,  0., 22., 14., inf]), 2: array([ 2.,  8.,  0.,  5., 17.,  9., inf])}\n",
      "\n",
      "FloydWarshall:\n",
      "{0: array([ 0.,  6.,  2.,  7., 15.,  7., inf]), 1: array([ 6.,  0.,  4.,  9., 21., 13., inf]), 2: array([ 2.,  8.,  0.,  5., 17.,  9., inf]), 3: array([ 7., 13.,  5.,  0., 22., 14., inf]), 4: array([ 8., 14.,  6.,  1.,  0.,  8., inf]), 5: array([ 3.,  9.,  1.,  6.,  8.,  0., inf]), 6: array([ 1.,  7.,  3.,  8., 10.,  2.,  0.])}\n",
      "\n",
      "TransitiveClosure:\n",
      "{0: array([ 0.,  6.,  2.,  7., 15.,  7., inf]), 1: array([ 6.,  0.,  4.,  9., 21., 13., inf]), 2: array([ 2.,  8.,  0.,  5., 17.,  9., inf]), 3: array([ 7., 13.,  5.,  0., 22., 14., inf]), 4: array([ 8., 14.,  6.,  1.,  0.,  8., inf]), 5: array([ 3.,  9.,  1.,  6.,  8.,  0., inf]), 6: array([ 1.,  7.,  3.,  8., 10.,  2.,  0.])}\n"
     ]
    }
   ],
   "source": [
    "'''Для Беллман-Форда:'''\n",
    "#### При обходе из вершины 0:\n",
    "# до 0: 0; до 1: 0-1 -> 6; до 2: 0-2 -> 2; до 3: 0-2-3 -> 7; до 4: 0-5-4 -> 15; до 5: 0-5 -> 7; до 6: никак\n",
    "#### При обходе из вершины 1:\n",
    "# до 0: 1-2-0 -> 6; до 1: 0; до 2: 1-2 -> 4; до 3: 1-2-3 -> 9; до 4: 1-2-0-5-4 -> 21; до 5: 1-2-0-5 -> 13; до 6: никак\n",
    "#### При обходе из вершины 2:\n",
    "# до 0: 2-0 -> 2; до 1: 2-0-1 ->8; до 2: 0; до 3: 2-3 -> 5; до 4: 2-0-5-4 -> 17; до 5: 2-0-5 -> 9; до 6: никак\n",
    "#### При обходе из вершины 3:\n",
    "# до 0: 3-2-0 -> 7; до 1: 3-2-0-1 -> 13; до 2: 3-2 -> 5; до 3: 0; до 4: 3-2-0-5-4 -> 22; до 5: 3-2-0-5 -> 14; до 6: никак\n",
    "#### При обходе из вершины 4:\n",
    "# до 0: 4-3-2-0 -> 8; до 1: 4-3-2-0-1 ->14; до 2: 4-3-2 -> 6; до 3: 4-3 -> 1; до 4: 0; до 5: 4-5 -> 8; до 6: никак\n",
    "#### При обходе из вершины 5:\n",
    "# до 0: 5-2-0 -> 3; до 1: 5-2-0-1 ->9; до 2: 5-2 -> 1; до 3: 5-2-3 -> 6; до 4: 5-4 -> 8; до 5: 0; до 6: никак\n",
    "#### При обходе из вершины 6:\n",
    "# до 0: 6-0 -> 1; до 1: 6-0-1 ->7; до 2: 6-0-2 -> 3; до 3: 6-0-2-3 -> 8; до 4: 6-5-4 -> 10; до 5: 6-5 -> 2; до 6: 0\n",
    "assert (BellmanFord(M1, 0)==np.array([ 0.,  6.,  2.,  7., 15.,  7., float('inf')])).all()\n",
    "assert (BellmanFord(M1, 1)==np.array([ 6.,  0.,  4.,  9., 21., 13., float('inf')])).all()\n",
    "assert (BellmanFord(M1, 2)==np.array([ 2.,  8.,  0.,  5., 17.,  9., float('inf')])).all()\n",
    "assert (BellmanFord(M1, 3)==np.array([ 7., 13.,  5.,  0., 22., 14., float('inf')])).all()\n",
    "assert (BellmanFord(M1, 4)==np.array([ 8., 14.,  6.,  1.,  0.,  8., float('inf')])).all()\n",
    "assert (BellmanFord(M1, 5)==np.array([ 3.,  9.,  1.,  6.,  8.,  0., float('inf')])).all()\n",
    "assert (BellmanFord(M1, 6)==np.array([ 1.,  7.,  3.,  8., 10.,  2.,  0.])).all()\n",
    "print('BellmanFord примеры:')\n",
    "print(f'1: {BellmanFord(M1, 1)}')\n",
    "print(f'4: {BellmanFord(M1, 4)}\\n')\n",
    "\n",
    "'''Для Беллман-Форда модифицированного:'''\n",
    "print('BellmanFordModify:')\n",
    "print(BellmanFordModify(M1, np.array([1, 4, 3, 2])))\n",
    "correct_ans =   {0: np.array([ 0.,  6.,  2.,  7., 15.,  7., float('inf')]),\n",
    "                 1: np.array([ 6.,  0.,  4.,  9., 21., 13., float('inf')]),\n",
    "                 2: np.array([ 2.,  8.,  0.,  5., 17.,  9., float('inf')]),\n",
    "                 3: np.array([ 7., 13.,  5.,  0., 22., 14., float('inf')]),\n",
    "                 4: np.array([ 8., 14.,  6.,  1.,  0.,  8., float('inf')]),\n",
    "                 5: np.array([ 3.,  9.,  1.,  6.,  8.,  0., float('inf')]),\n",
    "                 6: np.array([ 1.,  7.,  3.,  8., 10.,  2.,  0.])}\n",
    "for i in range(7):\n",
    "    assert (BellmanFordModify(M1, np.arange(7))[i] == correct_ans[i]).all()\n",
    "\n",
    "'''Для FloydWarshall:'''    \n",
    "print('\\nFloydWarshall:')\n",
    "print(FloydWarshall(M1))\n",
    "for i in range(7):\n",
    "    assert (FloydWarshall(M1)[i] == correct_ans[i]).all()\n",
    "\n",
    "'''Для TransitiveClosure:''' \n",
    "print('\\nTransitiveClosure:')\n",
    "print(TransitiveClosure(M1))\n",
    "for i in range(7):\n",
    "    assert (TransitiveClosure(M1)[i] == correct_ans[i]).all()"
   ]
  },
  {
   "cell_type": "code",
   "execution_count": 203,
   "id": "e7cd03ef",
   "metadata": {},
   "outputs": [
    {
     "data": {
      "image/png": "[encoded data removed]",
      "text/plain": [
       "<Figure size 640x480 with 1 Axes>"
      ]
     },
     "metadata": {},
     "output_type": "display_data"
    }
   ],
   "source": [
    "# На графе с циклом отрицательного веса\n",
    "matrix2 = np.array([\n",
    "    [0, -1, 0],\n",
    "    [0, 0, -4],\n",
    "    [-2, 0, 0],\n",
    "   \n",
    "])\n",
    "M2 = gb.Matrix.from_dense(matrix2, missing_value=0)\n",
    "\n",
    "gb.viz.draw(M2)"
   ]
  },
  {
   "cell_type": "code",
   "execution_count": 205,
   "id": "1c89e4da",
   "metadata": {},
   "outputs": [
    {
     "ename": "Exception",
     "evalue": "В графе есть цикл отрицательного веса",
     "output_type": "error",
     "traceback": [
      "\u001b[1;31m---------------------------------------------------------------------------\u001b[0m",
      "\u001b[1;31mException\u001b[0m                                 Traceback (most recent call last)",
      "Cell \u001b[1;32mIn[205], line 1\u001b[0m\n\u001b[1;32m----> 1\u001b[0m \u001b[38;5;28mprint\u001b[39m(BellmanFord(M2, \u001b[38;5;241m2\u001b[39m))\n",
      "Cell \u001b[1;32mIn[82], line 17\u001b[0m, in \u001b[0;36mBellmanFord\u001b[1;34m(A, start_vertex)\u001b[0m\n\u001b[0;32m     15\u001b[0m w(binary\u001b[38;5;241m.\u001b[39mmin) \u001b[38;5;241m<<\u001b[39m w\u001b[38;5;241m.\u001b[39mvxm(A, semiring\u001b[38;5;241m.\u001b[39mmin_plus)\n\u001b[0;32m     16\u001b[0m \u001b[38;5;28;01mif\u001b[39;00m \u001b[38;5;129;01mnot\u001b[39;00m w\u001b[38;5;241m.\u001b[39misequal(w_old):\n\u001b[1;32m---> 17\u001b[0m     \u001b[38;5;28;01mraise\u001b[39;00m \u001b[38;5;167;01mException\u001b[39;00m(\u001b[38;5;124m\"\u001b[39m\u001b[38;5;124mВ графе есть цикл отрицательного веса\u001b[39m\u001b[38;5;124m\"\u001b[39m)\n\u001b[0;32m     19\u001b[0m \u001b[38;5;250m\u001b[39m\u001b[38;5;124;03m'''3. Формирование ответа'''\u001b[39;00m\n\u001b[0;32m     20\u001b[0m \u001b[38;5;28;01mreturn\u001b[39;00m w\u001b[38;5;241m.\u001b[39mto_dense(fill_value\u001b[38;5;241m=\u001b[39m\u001b[38;5;28mfloat\u001b[39m(\u001b[38;5;124m'\u001b[39m\u001b[38;5;124minf\u001b[39m\u001b[38;5;124m'\u001b[39m))\n",
      "\u001b[1;31mException\u001b[0m: В графе есть цикл отрицательного веса"
     ]
    }
   ],
   "source": [
    "print(BellmanFord(M2, 2))"
   ]
  },
  {
   "cell_type": "code",
   "execution_count": 206,
   "id": "d8464561",
   "metadata": {},
   "outputs": [
    {
     "ename": "Exception",
     "evalue": "В графе есть цикл отрицательного веса",
     "output_type": "error",
     "traceback": [
      "\u001b[1;31m---------------------------------------------------------------------------\u001b[0m",
      "\u001b[1;31mException\u001b[0m                                 Traceback (most recent call last)",
      "Cell \u001b[1;32mIn[206], line 1\u001b[0m\n\u001b[1;32m----> 1\u001b[0m \u001b[38;5;28mprint\u001b[39m(BellmanFordModify(M2, np\u001b[38;5;241m.\u001b[39marray([\u001b[38;5;241m0\u001b[39m,\u001b[38;5;241m1\u001b[39m,\u001b[38;5;241m2\u001b[39m])))\n",
      "Cell \u001b[1;32mIn[116], line 22\u001b[0m, in \u001b[0;36mBellmanFordModify\u001b[1;34m(A, start_vertices)\u001b[0m\n\u001b[0;32m     20\u001b[0m     w[i,:](binary\u001b[38;5;241m.\u001b[39mmin) \u001b[38;5;241m<<\u001b[39m w[i,:]\u001b[38;5;241m.\u001b[39mvxm(A, semiring\u001b[38;5;241m.\u001b[39mmin_plus)\n\u001b[0;32m     21\u001b[0m \u001b[38;5;28;01mif\u001b[39;00m \u001b[38;5;129;01mnot\u001b[39;00m w\u001b[38;5;241m.\u001b[39misequal(w_old):\n\u001b[1;32m---> 22\u001b[0m     \u001b[38;5;28;01mraise\u001b[39;00m \u001b[38;5;167;01mException\u001b[39;00m(\u001b[38;5;124m\"\u001b[39m\u001b[38;5;124mВ графе есть цикл отрицательного веса\u001b[39m\u001b[38;5;124m\"\u001b[39m)\n\u001b[0;32m     24\u001b[0m \u001b[38;5;250m\u001b[39m\u001b[38;5;124;03m'''3. Формирование ответа'''\u001b[39;00m\n\u001b[0;32m     25\u001b[0m w_out \u001b[38;5;241m=\u001b[39m w\u001b[38;5;241m.\u001b[39mto_dense(fill_value\u001b[38;5;241m=\u001b[39m\u001b[38;5;28mfloat\u001b[39m(\u001b[38;5;124m'\u001b[39m\u001b[38;5;124minf\u001b[39m\u001b[38;5;124m'\u001b[39m))\n",
      "\u001b[1;31mException\u001b[0m: В графе есть цикл отрицательного веса"
     ]
    }
   ],
   "source": [
    "print(BellmanFordModify(M2, np.array([0,1,2])))"
   ]
  },
  {
   "cell_type": "code",
   "execution_count": 207,
   "id": "031e4582",
   "metadata": {},
   "outputs": [
    {
     "ename": "Exception",
     "evalue": "В графе есть цикл отрицательного веса",
     "output_type": "error",
     "traceback": [
      "\u001b[1;31m---------------------------------------------------------------------------\u001b[0m",
      "\u001b[1;31mException\u001b[0m                                 Traceback (most recent call last)",
      "Cell \u001b[1;32mIn[207], line 1\u001b[0m\n\u001b[1;32m----> 1\u001b[0m \u001b[38;5;28mprint\u001b[39m(FloydWarshall(M2))\n",
      "Cell \u001b[1;32mIn[129], line 22\u001b[0m, in \u001b[0;36mFloydWarshall\u001b[1;34m(A)\u001b[0m\n\u001b[0;32m     20\u001b[0m D1 \u001b[38;5;241m<<\u001b[39m D1\u001b[38;5;241m.\u001b[39mewise_add(cur_D1, op\u001b[38;5;241m=\u001b[39m\u001b[38;5;124m\"\u001b[39m\u001b[38;5;124mmin\u001b[39m\u001b[38;5;124m\"\u001b[39m)\n\u001b[0;32m     21\u001b[0m \u001b[38;5;28;01mif\u001b[39;00m \u001b[38;5;129;01mnot\u001b[39;00m D1\u001b[38;5;241m.\u001b[39misequal(D):\n\u001b[1;32m---> 22\u001b[0m     \u001b[38;5;28;01mraise\u001b[39;00m \u001b[38;5;167;01mException\u001b[39;00m(\u001b[38;5;124m\"\u001b[39m\u001b[38;5;124mВ графе есть цикл отрицательного веса\u001b[39m\u001b[38;5;124m\"\u001b[39m)\n\u001b[0;32m     24\u001b[0m \u001b[38;5;250m\u001b[39m\u001b[38;5;124;03m'''3. Формирование ответа'''\u001b[39;00m\n\u001b[0;32m     25\u001b[0m D_out \u001b[38;5;241m=\u001b[39m D\u001b[38;5;241m.\u001b[39mto_dense(fill_value\u001b[38;5;241m=\u001b[39m\u001b[38;5;28mfloat\u001b[39m(\u001b[38;5;124m'\u001b[39m\u001b[38;5;124minf\u001b[39m\u001b[38;5;124m'\u001b[39m))\n",
      "\u001b[1;31mException\u001b[0m: В графе есть цикл отрицательного веса"
     ]
    }
   ],
   "source": [
    "print(FloydWarshall(M2))"
   ]
  },
  {
   "cell_type": "code",
   "execution_count": 208,
   "id": "4ee08e6b",
   "metadata": {},
   "outputs": [
    {
     "ename": "Exception",
     "evalue": "В графе есть цикл отрицательного веса",
     "output_type": "error",
     "traceback": [
      "\u001b[1;31m---------------------------------------------------------------------------\u001b[0m",
      "\u001b[1;31mException\u001b[0m                                 Traceback (most recent call last)",
      "Cell \u001b[1;32mIn[208], line 1\u001b[0m\n\u001b[1;32m----> 1\u001b[0m \u001b[38;5;28mprint\u001b[39m(TransitiveClosure(M2))\n",
      "Cell \u001b[1;32mIn[147], line 20\u001b[0m, in \u001b[0;36mTransitiveClosure\u001b[1;34m(A)\u001b[0m\n\u001b[0;32m     18\u001b[0m D2 \u001b[38;5;241m=\u001b[39m D2\u001b[38;5;241m.\u001b[39mmxm(A, semiring\u001b[38;5;241m.\u001b[39mmin_plus)\u001b[38;5;241m.\u001b[39mewise_add(I, op\u001b[38;5;241m=\u001b[39m\u001b[38;5;124m\"\u001b[39m\u001b[38;5;124mmin\u001b[39m\u001b[38;5;124m\"\u001b[39m)\n\u001b[0;32m     19\u001b[0m \u001b[38;5;28;01mif\u001b[39;00m \u001b[38;5;129;01mnot\u001b[39;00m D2\u001b[38;5;241m.\u001b[39misequal(D):\n\u001b[1;32m---> 20\u001b[0m     \u001b[38;5;28;01mraise\u001b[39;00m \u001b[38;5;167;01mException\u001b[39;00m(\u001b[38;5;124m\"\u001b[39m\u001b[38;5;124mВ графе есть цикл отрицательного веса\u001b[39m\u001b[38;5;124m\"\u001b[39m)\n\u001b[0;32m     22\u001b[0m \u001b[38;5;250m\u001b[39m\u001b[38;5;124;03m'''3. Формирование ответа'''\u001b[39;00m\n\u001b[0;32m     23\u001b[0m D_out \u001b[38;5;241m=\u001b[39m D\u001b[38;5;241m.\u001b[39mto_dense(fill_value\u001b[38;5;241m=\u001b[39m\u001b[38;5;28mfloat\u001b[39m(\u001b[38;5;124m'\u001b[39m\u001b[38;5;124minf\u001b[39m\u001b[38;5;124m'\u001b[39m))      \n",
      "\u001b[1;31mException\u001b[0m: В графе есть цикл отрицательного веса"
     ]
    }
   ],
   "source": [
    "print(TransitiveClosure(M2))"
   ]
  },
  {
   "cell_type": "markdown",
   "id": "061504ef",
   "metadata": {},
   "source": [
    "# Часть 2. Дополнительно"
   ]
  },
  {
   "cell_type": "markdown",
   "id": "3e9565f1",
   "metadata": {},
   "source": [
    "# а) \n",
    "Провести экспериментальное исследование полученных реализаций на некоторых больших графах в формате Matrix Market с сайта [SuiteSparse Matrix Collection](https://sparse.tamu.edu) и на случайных сгенерированных. При этом описать зависимость времени работы всех полученных реализаций от размеров графа, его степени разреженности, количестве стартовых вершин. В частности выяснить, начиная с какой доли вершин в графе целесообразнее использовать алгоритм поиска кратчайших путей для всех пар вершин вместо того, чтобы решать задачу поиска кратчайших путей из нескольких стартовых (модифицированный Bellman-Ford)."
   ]
  },
  {
   "cell_type": "code",
   "execution_count": 235,
   "id": "3700c65e",
   "metadata": {},
   "outputs": [],
   "source": [
    "# названия скачанных графов\n",
    "graph_names = os.listdir('DataLab3/') "
   ]
  },
  {
   "cell_type": "code",
   "execution_count": 243,
   "id": "2c2672de",
   "metadata": {},
   "outputs": [],
   "source": [
    "def compare_all(A, vertices):\n",
    "    '''A - граф, vertices - вершины'''\n",
    "    print('Bellman Ford:')\n",
    "    %timeit [BellmanFord(A, vert) for vert in vertices]\n",
    "    \n",
    "    print('Bellman Ford Modify:')\n",
    "    %timeit BellmanFordModify(A, vertices)\n",
    "\n",
    "\n",
    "def time_ffloyd_transitive(A):\n",
    "    print('FloydWarshall:')\n",
    "    %timeit FloydWarshall(A)\n",
    "\n",
    "    print('TransitiveClosure:')\n",
    "    %timeit TransitiveClosure(A)\n",
    "    print()\n",
    "\n",
    "    \n",
    "def vertices_generator(n, p):\n",
    "    '''\n",
    "    генерация массива стартовых вершин\n",
    "    n - количество вершин в графе\n",
    "    p - доля генерируемых стартовых вершин'''\n",
    "    return np.array(random.sample(range(n), round(n * p)))       "
   ]
  },
  {
   "cell_type": "markdown",
   "id": "2944ee1c",
   "metadata": {},
   "source": [
    "### а1) Сравнение алгоритмов на графах с сайта"
   ]
  },
  {
   "cell_type": "code",
   "execution_count": 244,
   "id": "44348554",
   "metadata": {},
   "outputs": [
    {
     "name": "stdout",
     "output_type": "stream",
     "text": [
      "\u001b[1mДля can_1054.mtx (Количество вершин: 1054, количество ребер: 12196), степень разреженности: 0.0110\n",
      "\u001b[0mFloydWarshall:\n",
      "17.7 s ± 75.7 ms per loop (mean ± std. dev. of 7 runs, 1 loop each)\n",
      "TransitiveClosure:\n",
      "565 ms ± 36.5 ms per loop (mean ± std. dev. of 7 runs, 1 loop each)\n",
      "\n",
      "Доля стартовых вершин: 0.1\n",
      "Bellman Ford:\n",
      "423 ms ± 23.4 ms per loop (mean ± std. dev. of 7 runs, 1 loop each)\n",
      "Bellman Ford Modify:\n",
      "1.74 s ± 31.1 ms per loop (mean ± std. dev. of 7 runs, 1 loop each)\n",
      "\n",
      "Доля стартовых вершин: 0.4\n",
      "Bellman Ford:\n",
      "1.71 s ± 68.7 ms per loop (mean ± std. dev. of 7 runs, 1 loop each)\n",
      "Bellman Ford Modify:\n",
      "7.29 s ± 278 ms per loop (mean ± std. dev. of 7 runs, 1 loop each)\n",
      "\n",
      "Доля стартовых вершин: 0.7\n",
      "Bellman Ford:\n",
      "3.04 s ± 111 ms per loop (mean ± std. dev. of 7 runs, 1 loop each)\n",
      "Bellman Ford Modify:\n",
      "13 s ± 101 ms per loop (mean ± std. dev. of 7 runs, 1 loop each)\n",
      "\n",
      "Доля стартовых вершин: 1.0\n",
      "Bellman Ford:\n",
      "4.33 s ± 52.8 ms per loop (mean ± std. dev. of 7 runs, 1 loop each)\n",
      "Bellman Ford Modify:\n",
      "19.7 s ± 133 ms per loop (mean ± std. dev. of 7 runs, 1 loop each)\n",
      "\n",
      "\u001b[1mДля can_445.mtx (Количество вершин: 445, количество ребер: 3809), степень разреженности: 0.0193\n",
      "\u001b[0mFloydWarshall:\n",
      "1.96 s ± 33.5 ms per loop (mean ± std. dev. of 7 runs, 1 loop each)\n",
      "TransitiveClosure:\n",
      "151 ms ± 4.44 ms per loop (mean ± std. dev. of 7 runs, 10 loops each)\n",
      "\n",
      "Доля стартовых вершин: 0.1\n",
      "Bellman Ford:\n",
      "132 ms ± 3.11 ms per loop (mean ± std. dev. of 7 runs, 10 loops each)\n",
      "Bellman Ford Modify:\n",
      "451 ms ± 9.08 ms per loop (mean ± std. dev. of 7 runs, 1 loop each)\n",
      "\n",
      "Доля стартовых вершин: 0.4\n",
      "Bellman Ford:\n",
      "526 ms ± 14.7 ms per loop (mean ± std. dev. of 7 runs, 1 loop each)\n",
      "Bellman Ford Modify:\n",
      "1.88 s ± 49.4 ms per loop (mean ± std. dev. of 7 runs, 1 loop each)\n",
      "\n",
      "Доля стартовых вершин: 0.7\n",
      "Bellman Ford:\n",
      "911 ms ± 26.3 ms per loop (mean ± std. dev. of 7 runs, 1 loop each)\n",
      "Bellman Ford Modify:\n",
      "3.31 s ± 129 ms per loop (mean ± std. dev. of 7 runs, 1 loop each)\n",
      "\n",
      "Доля стартовых вершин: 1.0\n",
      "Bellman Ford:\n",
      "1.3 s ± 50.6 ms per loop (mean ± std. dev. of 7 runs, 1 loop each)\n",
      "Bellman Ford Modify:\n",
      "4.72 s ± 74.9 ms per loop (mean ± std. dev. of 7 runs, 1 loop each)\n",
      "\n",
      "\u001b[1mДля can_838.mtx (Количество вершин: 838, количество ребер: 10010), степень разреженности: 0.0143\n",
      "\u001b[0mFloydWarshall:\n",
      "9.38 s ± 49.2 ms per loop (mean ± std. dev. of 7 runs, 1 loop each)\n",
      "TransitiveClosure:\n",
      "332 ms ± 14.8 ms per loop (mean ± std. dev. of 7 runs, 1 loop each)\n",
      "\n",
      "Доля стартовых вершин: 0.1\n",
      "Bellman Ford:\n",
      "282 ms ± 12.8 ms per loop (mean ± std. dev. of 7 runs, 1 loop each)\n",
      "Bellman Ford Modify:\n",
      "1.06 s ± 28.9 ms per loop (mean ± std. dev. of 7 runs, 1 loop each)\n",
      "\n",
      "Доля стартовых вершин: 0.4\n",
      "Bellman Ford:\n",
      "1.12 s ± 31.9 ms per loop (mean ± std. dev. of 7 runs, 1 loop each)\n",
      "Bellman Ford Modify:\n",
      "4.32 s ± 77.2 ms per loop (mean ± std. dev. of 7 runs, 1 loop each)\n",
      "\n",
      "Доля стартовых вершин: 0.7\n",
      "Bellman Ford:\n",
      "1.98 s ± 41.6 ms per loop (mean ± std. dev. of 7 runs, 1 loop each)\n",
      "Bellman Ford Modify:\n",
      "8.01 s ± 131 ms per loop (mean ± std. dev. of 7 runs, 1 loop each)\n",
      "\n",
      "Доля стартовых вершин: 1.0\n",
      "Bellman Ford:\n",
      "2.84 s ± 75.3 ms per loop (mean ± std. dev. of 7 runs, 1 loop each)\n",
      "Bellman Ford Modify:\n",
      "11.6 s ± 532 ms per loop (mean ± std. dev. of 7 runs, 1 loop each)\n",
      "\n"
     ]
    }
   ],
   "source": [
    "'''Зависимости времени от размера графа (и степени разреженности) + от числа стартовых вершин'''\n",
    "# 1. Зависимость времени работы от размера графа (и степени разреженности)\n",
    "for graph_name in graph_names:\n",
    "    graph = mmread(f'DataLab3/{graph_name}')\n",
    "    num_vertices = graph.shape[0]\n",
    "    num_edges = len(graph.to_coo()[0])\n",
    "    rerefaction_deg = num_edges / (num_vertices * (num_vertices - 1))\n",
    "    print(Style.BRIGHT + f'Для {graph_name} (Количество вершин: {num_vertices}, количество ребер: {num_edges}), степень разреженности: {rerefaction_deg:.4f}')\n",
    "    print(Style.RESET_ALL, end='')\n",
    "    \n",
    "    time_ffloyd_transitive(graph)\n",
    "    # 2. Зависимость времени работы от числа стартовых вершин\n",
    "    for p in p_all:\n",
    "        vertices = vertices_generator(graph.nrows, p)\n",
    "        print('Доля стартовых вершин:', p)\n",
    "        compare_all(graph, vertices)\n",
    "        print()"
   ]
  },
  {
   "cell_type": "markdown",
   "id": "ebff9b85",
   "metadata": {},
   "source": [
    "### Комментарии:\n",
    "1) По результатам тестирования можно отметить, что алгоритм Bellman Ford Modify работает медленнее, чем обычный Bellman Ford. Это связано с тем, что относительно долго происходит проверка графа на то, есть ли цикл отрицательного веса.\n",
    "2) TransitiveClosure во всех случаях отрабатывал значительно быстрее, чем FloydWarshall.\n",
    "3) Если сравнивать алгоритмы TransitiveClosure с Bellman Ford в зависимости от доли стартовых вершин, то во всех трех случаях при доле стартовых вершин = 0.4 TransitiveClosure начинает рассчитывать ответ быстрее, чем Bellman Ford, а при доле стартовых вершин меньше, чем 0.4, в частности при 0.1, Bellman Ford еще быстрее."
   ]
  },
  {
   "cell_type": "markdown",
   "id": "2bc7dc5f",
   "metadata": {},
   "source": [
    "### а2) Сравнение алгоритмов на сгенерированных графах"
   ]
  },
  {
   "cell_type": "code",
   "execution_count": 248,
   "id": "f0c0c3cf",
   "metadata": {},
   "outputs": [],
   "source": [
    "def generate_graph(num_vertices, num_edges):\n",
    "    '''создание множества, состоящего из номеров ячеек матрицы (без диагональных элементов)'''\n",
    "    positions=[]\n",
    "    for ind in range(num_vertices**2):\n",
    "        if ind // num_vertices != ind % num_vertices:\n",
    "            positions.append(ind)\n",
    "\n",
    "    '''Отбор num_edges случайных индексов вершин (случайные значения из high_positions) для создания ребер'''\n",
    "    gen_indices = random.sample(positions, num_edges)\n",
    "    \n",
    "    '''Преобразование индексов в координаты (строка, столбец)'''\n",
    "    row_indices, col_indices = np.unravel_index(gen_indices, (num_vertices, num_vertices))\n",
    "    \n",
    "    return gb.Matrix.from_coo(row_indices, col_indices, [random.randint(0, 10) for _ in range(len(row_indices))], \n",
    "                              nrows=num_vertices, ncols=num_vertices)"
   ]
  },
  {
   "cell_type": "markdown",
   "id": "c841f111",
   "metadata": {},
   "source": [
    "### i) Зависимость от числа вершин (при фикс степени разреженности и фикс числе стартовых вершин)"
   ]
  },
  {
   "cell_type": "code",
   "execution_count": 251,
   "id": "c73baded",
   "metadata": {},
   "outputs": [
    {
     "name": "stdout",
     "output_type": "stream",
     "text": [
      "\u001b[1mКоличество вершин: 100, степень разреженности: 0.50, доля стартовых вершин: 50%\n",
      "\u001b[0mFloydWarshall:\n",
      "156 ms ± 14.2 ms per loop (mean ± std. dev. of 7 runs, 10 loops each)\n",
      "TransitiveClosure:\n",
      "36.5 ms ± 2.67 ms per loop (mean ± std. dev. of 7 runs, 10 loops each)\n",
      "\n",
      "Bellman Ford:\n",
      "144 ms ± 8.84 ms per loop (mean ± std. dev. of 7 runs, 10 loops each)\n",
      "Bellman Ford Modify:\n",
      "300 ms ± 37.7 ms per loop (mean ± std. dev. of 7 runs, 1 loop each)\n",
      "\u001b[1mКоличество вершин: 200, степень разреженности: 0.50, доля стартовых вершин: 50%\n",
      "\u001b[0mFloydWarshall:\n",
      "343 ms ± 28.3 ms per loop (mean ± std. dev. of 7 runs, 1 loop each)\n",
      "TransitiveClosure:\n",
      "96.8 ms ± 4.67 ms per loop (mean ± std. dev. of 7 runs, 10 loops each)\n",
      "\n",
      "Bellman Ford:\n",
      "492 ms ± 23.9 ms per loop (mean ± std. dev. of 7 runs, 1 loop each)\n",
      "Bellman Ford Modify:\n",
      "856 ms ± 67 ms per loop (mean ± std. dev. of 7 runs, 1 loop each)\n",
      "\u001b[1mКоличество вершин: 400, степень разреженности: 0.50, доля стартовых вершин: 50%\n",
      "\u001b[0mFloydWarshall:\n",
      "1.8 s ± 73.7 ms per loop (mean ± std. dev. of 7 runs, 1 loop each)\n",
      "TransitiveClosure:\n",
      "360 ms ± 40.2 ms per loop (mean ± std. dev. of 7 runs, 1 loop each)\n",
      "\n",
      "Bellman Ford:\n",
      "1.54 s ± 39.8 ms per loop (mean ± std. dev. of 7 runs, 1 loop each)\n",
      "Bellman Ford Modify:\n",
      "3.78 s ± 275 ms per loop (mean ± std. dev. of 7 runs, 1 loop each)\n",
      "\u001b[1mКоличество вершин: 800, степень разреженности: 0.50, доля стартовых вершин: 50%\n",
      "\u001b[0mFloydWarshall:\n",
      "7.11 s ± 177 ms per loop (mean ± std. dev. of 7 runs, 1 loop each)\n",
      "TransitiveClosure:\n",
      "2.14 s ± 262 ms per loop (mean ± std. dev. of 7 runs, 1 loop each)\n",
      "\n",
      "Bellman Ford:\n",
      "3.6 s ± 757 ms per loop (mean ± std. dev. of 7 runs, 1 loop each)\n",
      "Bellman Ford Modify:\n",
      "8.19 s ± 133 ms per loop (mean ± std. dev. of 7 runs, 1 loop each)\n"
     ]
    }
   ],
   "source": [
    "for i in [100, 200, 400, 800]:\n",
    "    fix_raref_deg, num_starts = 0.5, 50 # фиксированные значения степени разреженности и числа стартовых вершин\n",
    "    generated_graph = generate_graph(i, int(fix_raref_deg * i * (i-1)))\n",
    "    num_vertices = generated_graph.shape[0]\n",
    "    num_edges = len(generated_graph.to_coo()[0])\n",
    "    rerefaction_deg = num_edges / (num_vertices * (num_vertices - 1))\n",
    "    print(Style.BRIGHT + f'Количество вершин: {num_vertices}, степень разреженности: {rerefaction_deg:.2f}, доля стартовых вершин: {num_starts}%')\n",
    "    print(Style.RESET_ALL, end='')\n",
    "    time_ffloyd_transitive(generated_graph)\n",
    "    compare_all(generated_graph, vertices_generator(i, num_starts / 100))"
   ]
  },
  {
   "cell_type": "code",
   "execution_count": 276,
   "id": "a93ce676",
   "metadata": {},
   "outputs": [
    {
     "data": {
      "image/png": "[encoded data removed]",
      "text/plain": [
       "<Figure size 500x500 with 1 Axes>"
      ]
     },
     "metadata": {},
     "output_type": "display_data"
    }
   ],
   "source": [
    "floyd = [0.156, 0.343, 1.8, 7.11]\n",
    "transit = [0.0365, 0.0968, 0.36, 2.14]\n",
    "bf = [0.144, 0.492, 1.54, 3.6]\n",
    "bf_mod = [0.3, 0.856, 3.78, 8.19]\n",
    "nums = [100, 200, 400, 800]\n",
    "\n",
    "fig, ax = plt.subplots(figsize=(5,5))\n",
    "sns.lineplot(y=floyd, x=nums, label='FloydWarshall', markers=True)\n",
    "sns.lineplot(y=transit, x=nums, label='TransitiveClosure')\n",
    "sns.lineplot(y=bf, x=nums, label='Bellman Ford')\n",
    "sns.lineplot(y=bf_mod, x=nums, label='Bellman Ford Modify')\n",
    "plt.xlabel('Количество вершин')\n",
    "plt.ylabel('Время, с')\n",
    "plt.show()"
   ]
  },
  {
   "cell_type": "markdown",
   "id": "17f646a4",
   "metadata": {},
   "source": [
    "#### Выводы:\n",
    "\n",
    "Сравнивая зависимости времени отработки алгоритмов от количества вершин графа при фиксированных остальных параметрах, TransitiveClosure является самым быстрым алгоритмом; Можно заметить, что алгоритм Bellman Ford (и его модифицированная версия) демонстрируют практически линейную зависимость, поэтому можно предположить, что на графах с большим числом вершин он будет быстрее, чем тот же FloydWarshall. Однако при небольшом числе вершин (до 200) время FloydWarshall будет меньше, чем у Bellman Ford, но за счет нелинейной зависимости с увеличением числа вершин FloydWarshall начинает сильно отставать от своих \"коллег\".\n"
   ]
  },
  {
   "cell_type": "markdown",
   "id": "70208a5c",
   "metadata": {},
   "source": [
    "### ii) Зависимость от степени разреженности (при фикс числе вершин и фикс числе стартовых вершин)"
   ]
  },
  {
   "cell_type": "code",
   "execution_count": 253,
   "id": "4b6f268f",
   "metadata": {},
   "outputs": [
    {
     "name": "stdout",
     "output_type": "stream",
     "text": [
      "\u001b[1mКоличество вершин: 500, степень разреженности: 0.20, доля стартовых вершин: 50%\n",
      "\u001b[0mFloydWarshall:\n",
      "2.97 s ± 115 ms per loop (mean ± std. dev. of 7 runs, 1 loop each)\n",
      "TransitiveClosure:\n",
      "175 ms ± 1.46 ms per loop (mean ± std. dev. of 7 runs, 10 loops each)\n",
      "\n",
      "Bellman Ford:\n",
      "720 ms ± 22.3 ms per loop (mean ± std. dev. of 7 runs, 1 loop each)\n",
      "Bellman Ford Modify:\n",
      "2.62 s ± 39 ms per loop (mean ± std. dev. of 7 runs, 1 loop each)\n",
      "\u001b[1mКоличество вершин: 500, степень разреженности: 0.40, доля стартовых вершин: 50%\n",
      "\u001b[0mFloydWarshall:\n",
      "2.93 s ± 32 ms per loop (mean ± std. dev. of 7 runs, 1 loop each)\n",
      "TransitiveClosure:\n",
      "219 ms ± 5.93 ms per loop (mean ± std. dev. of 7 runs, 1 loop each)\n",
      "\n",
      "Bellman Ford:\n",
      "769 ms ± 164 ms per loop (mean ± std. dev. of 7 runs, 1 loop each)\n",
      "Bellman Ford Modify:\n",
      "3.4 s ± 34.2 ms per loop (mean ± std. dev. of 7 runs, 1 loop each)\n",
      "\u001b[1mКоличество вершин: 500, степень разреженности: 0.60, доля стартовых вершин: 50%\n",
      "\u001b[0mFloydWarshall:\n",
      "3.01 s ± 147 ms per loop (mean ± std. dev. of 7 runs, 1 loop each)\n",
      "TransitiveClosure:\n",
      "684 ms ± 54.2 ms per loop (mean ± std. dev. of 7 runs, 1 loop each)\n",
      "\n",
      "Bellman Ford:\n",
      "2.18 s ± 58.6 ms per loop (mean ± std. dev. of 7 runs, 1 loop each)\n",
      "Bellman Ford Modify:\n",
      "4.71 s ± 104 ms per loop (mean ± std. dev. of 7 runs, 1 loop each)\n",
      "\u001b[1mКоличество вершин: 500, степень разреженности: 0.80, доля стартовых вершин: 50%\n",
      "\u001b[0mFloydWarshall:\n",
      "3.05 s ± 95.3 ms per loop (mean ± std. dev. of 7 runs, 1 loop each)\n",
      "TransitiveClosure:\n",
      "587 ms ± 27.6 ms per loop (mean ± std. dev. of 7 runs, 1 loop each)\n",
      "\n",
      "Bellman Ford:\n",
      "1.82 s ± 64.5 ms per loop (mean ± std. dev. of 7 runs, 1 loop each)\n",
      "Bellman Ford Modify:\n",
      "4.93 s ± 145 ms per loop (mean ± std. dev. of 7 runs, 1 loop each)\n"
     ]
    }
   ],
   "source": [
    "for i in [0.2, 0.4, 0.6, 0.8]:\n",
    "    num_vert, num_starts = 500, 50 # фиксированные число вершин и число стартовых вершин\n",
    "    generated_graph = generate_graph(num_vert, int(i * num_vert * (num_vert-1)))\n",
    "    num_vertices = generated_graph.shape[0]\n",
    "    num_edges = len(generated_graph.to_coo()[0])\n",
    "    rerefaction_deg = num_edges / (num_vertices * (num_vertices - 1))\n",
    "    print(Style.BRIGHT + f'Количество вершин: {num_vertices}, степень разреженности: {rerefaction_deg:.2f}, доля стартовых вершин: {num_starts}%')\n",
    "    print(Style.RESET_ALL, end='')\n",
    "    time_ffloyd_transitive(generated_graph)\n",
    "    compare_all(generated_graph, vertices_generator(num_vert, num_starts / 100)) "
   ]
  },
  {
   "cell_type": "code",
   "execution_count": 277,
   "id": "367dc0b1",
   "metadata": {},
   "outputs": [
    {
     "data": {
      "image/png": "[encoded data removed]",
      "text/plain": [
       "<Figure size 500x500 with 1 Axes>"
      ]
     },
     "metadata": {},
     "output_type": "display_data"
    }
   ],
   "source": [
    "floyd = [2.97, 2.93, 3.01, 3.05]\n",
    "transit = [0.175, 0.219, 0.684, 0.587]\n",
    "bf = [0.144, 0.492, 1.54, 3.6]\n",
    "bf_mod = [2.62, 3.4, 4.71, 4.93]\n",
    "nums = [0.2, 0.4, 0.6, 0.8]\n",
    "\n",
    "fig, ax = plt.subplots(figsize=(5,5))\n",
    "sns.lineplot(y=floyd, x=nums, label='FloydWarshall', markers=True)\n",
    "sns.lineplot(y=transit, x=nums, label='TransitiveClosure')\n",
    "sns.lineplot(y=bf, x=nums, label='Bellman Ford')\n",
    "sns.lineplot(y=bf_mod, x=nums, label='Bellman Ford Modify')\n",
    "plt.xlabel('Степень разреженности')\n",
    "plt.ylabel('Время, с')\n",
    "plt.show()"
   ]
  },
  {
   "cell_type": "markdown",
   "id": "d989438a",
   "metadata": {},
   "source": [
    "### Выводы:\n",
    "Сравнивая зависимости времени отработки алгоритмов от степени разреженности графа при фиксированных остальных параметрах, TransitiveClosure является самым быстрым алгоритмом; Можно заметить, что FloydWarshall не зависит от степени разреженности графа, TransitiveClosure - тоже практически не зависит, Bellman Ford Modify имеет примерно линейную зависимость, а классический Bellman Ford степенную."
   ]
  },
  {
   "cell_type": "markdown",
   "id": "d17ed110",
   "metadata": {},
   "source": [
    "### iii) Зависимость от числа стартовых вершин (при фикс числе вершин и фикс степени разреженности)"
   ]
  },
  {
   "cell_type": "code",
   "execution_count": 254,
   "id": "d552103b",
   "metadata": {},
   "outputs": [
    {
     "name": "stdout",
     "output_type": "stream",
     "text": [
      "\u001b[1mКоличество вершин: 500, степень разреженности: 0.50, доля стартовых вершин: 20%\n",
      "\u001b[0mFloydWarshall:\n",
      "3.07 s ± 99.7 ms per loop (mean ± std. dev. of 7 runs, 1 loop each)\n",
      "TransitiveClosure:\n",
      "670 ms ± 23.7 ms per loop (mean ± std. dev. of 7 runs, 1 loop each)\n",
      "\n",
      "Bellman Ford:\n",
      "907 ms ± 41.1 ms per loop (mean ± std. dev. of 7 runs, 1 loop each)\n",
      "Bellman Ford Modify:\n",
      "1.4 s ± 389 ms per loop (mean ± std. dev. of 7 runs, 1 loop each)\n",
      "\u001b[1mКоличество вершин: 500, степень разреженности: 0.50, доля стартовых вершин: 40%\n",
      "\u001b[0mFloydWarshall:\n",
      "3.13 s ± 113 ms per loop (mean ± std. dev. of 7 runs, 1 loop each)\n",
      "TransitiveClosure:\n",
      "672 ms ± 26.3 ms per loop (mean ± std. dev. of 7 runs, 1 loop each)\n",
      "\n",
      "Bellman Ford:\n",
      "1.77 s ± 47.6 ms per loop (mean ± std. dev. of 7 runs, 1 loop each)\n",
      "Bellman Ford Modify:\n",
      "3.49 s ± 41.8 ms per loop (mean ± std. dev. of 7 runs, 1 loop each)\n",
      "\u001b[1mКоличество вершин: 500, степень разреженности: 0.50, доля стартовых вершин: 60%\n",
      "\u001b[0mFloydWarshall:\n",
      "2.98 s ± 62.3 ms per loop (mean ± std. dev. of 7 runs, 1 loop each)\n",
      "TransitiveClosure:\n",
      "718 ms ± 14.5 ms per loop (mean ± std. dev. of 7 runs, 1 loop each)\n",
      "\n",
      "Bellman Ford:\n",
      "2.7 s ± 27.5 ms per loop (mean ± std. dev. of 7 runs, 1 loop each)\n",
      "Bellman Ford Modify:\n",
      "5.27 s ± 25.9 ms per loop (mean ± std. dev. of 7 runs, 1 loop each)\n",
      "\u001b[1mКоличество вершин: 500, степень разреженности: 0.50, доля стартовых вершин: 80%\n",
      "\u001b[0mFloydWarshall:\n",
      "2.93 s ± 33.2 ms per loop (mean ± std. dev. of 7 runs, 1 loop each)\n",
      "TransitiveClosure:\n",
      "838 ms ± 23.4 ms per loop (mean ± std. dev. of 7 runs, 1 loop each)\n",
      "\n",
      "Bellman Ford:\n",
      "3.57 s ± 24 ms per loop (mean ± std. dev. of 7 runs, 1 loop each)\n",
      "Bellman Ford Modify:\n",
      "8.78 s ± 57.4 ms per loop (mean ± std. dev. of 7 runs, 1 loop each)\n"
     ]
    }
   ],
   "source": [
    "for i in [20, 40, 60, 80]:\n",
    "    num_vert, fix_raref_deg = 500, 0.5 # фиксированные число вершин и значение степени разреженности\n",
    "    generated_graph = generate_graph(num_vert, int(fix_raref_deg * num_vert * (num_vert-1)))\n",
    "    num_vertices = generated_graph.shape[0]\n",
    "    num_edges = len(generated_graph.to_coo()[0])\n",
    "    rerefaction_deg = num_edges / (num_vertices * (num_vertices - 1))\n",
    "    print(Style.BRIGHT + f'Количество вершин: {num_vertices}, степень разреженности: {rerefaction_deg:.2f}, доля стартовых вершин: {i}%')\n",
    "    print(Style.RESET_ALL, end='')\n",
    "    time_ffloyd_transitive(generated_graph)\n",
    "    compare_all(generated_graph, vertices_generator(num_vert, i / 100)) "
   ]
  },
  {
   "cell_type": "code",
   "execution_count": 279,
   "id": "69900784",
   "metadata": {},
   "outputs": [
    {
     "data": {
      "image/png": "[encoded data removed]",
      "text/plain": [
       "<Figure size 500x500 with 1 Axes>"
      ]
     },
     "metadata": {},
     "output_type": "display_data"
    }
   ],
   "source": [
    "floyd = [3.07, 3.13, 2.98, 2.93]\n",
    "transit = [0.67, 0.672, 0.718, 0.838]\n",
    "bf = [0.907, 1.77, 2.7, 3.57]\n",
    "bf_mod = [1.4, 3.49, 5.27, 8.78]\n",
    "nums = [20, 40, 60, 80]\n",
    "\n",
    "fig, ax = plt.subplots(figsize=(5,5))\n",
    "sns.lineplot(y=floyd, x=nums, label='FloydWarshall')\n",
    "sns.lineplot(y=transit, x=nums, label='TransitiveClosure')\n",
    "sns.lineplot(y=bf, x=nums, label='Bellman Ford')\n",
    "sns.lineplot(y=bf_mod, x=nums, label='Bellman Ford Modify')\n",
    "plt.xlabel('Доля стартовых вершин, %')\n",
    "plt.ylabel('Время, с')\n",
    "plt.show()"
   ]
  },
  {
   "cell_type": "markdown",
   "id": "7cdc13e4",
   "metadata": {},
   "source": [
    "### Выводы:\n",
    "Очевидно, что у алгоритмов TransitiveClosure и FloydWarshall нет зависимости от доли стартовых вершин, ведь расчет происходит для всех вершин; а Bellman Ford вместе с модифицированной версией показывают линейную зависимость от доли стартовых вершин."
   ]
  },
  {
   "cell_type": "markdown",
   "id": "5f3edae1",
   "metadata": {},
   "source": [
    "# б) Оценить эффект от использования push/pull direction optimization\n",
    "для векторно-матричных операциях в алгоритмах. <br>Попробовать разные стратегии (всегда push, всегда pull, использовать порог наполненности вектора и т.д.)."
   ]
  },
  {
   "cell_type": "code",
   "execution_count": 285,
   "id": "ecf3b564",
   "metadata": {},
   "outputs": [],
   "source": [
    "def BellmanFord_push_pull(A, start_vertex, push_pull_percent=0.0):\n",
    "    '''0. Инициализация output - вектора'''\n",
    "    w = Vector(A.dtype, A.nrows) # вектор длиной равной числу вершин графа\n",
    "    w[start_vertex] << 0 # путь из себя в себя равен 0\n",
    "    \n",
    "    '''1. Пробег по графу'''\n",
    "    for i in range(A.nrows-1):\n",
    "        w_old = w.dup()\n",
    "        # push\n",
    "        if push_pull_percent == 0.0:\n",
    "            w(binary.min) << w.vxm(A, semiring.min_plus)\n",
    "        # pull\n",
    "        elif push_pull_percent == 1.0:\n",
    "            w(binary.min) << A.T.mxv(w, semiring.min_plus)\n",
    "        # порог наполняемости\n",
    "        else:\n",
    "            if w.nvals / w.size > push_pull_percent:\n",
    "                w(binary.min) << A.T.mxv(w, semiring.min_plus)\n",
    "            else:\n",
    "                w(binary.min) << w.vxm(A, semiring.min_plus)\n",
    "        \n",
    "        if w.isequal(w_old):\n",
    "            break\n",
    "            \n",
    "    '''2. Проверка отсутствия циклов отрицательного веса'''\n",
    "    w_old = w.dup()\n",
    "    # push\n",
    "    if push_pull_percent == 0.0:\n",
    "        w(binary.min) << w.vxm(A, semiring.min_plus)\n",
    "    \n",
    "    # pull\n",
    "    elif push_pull_percent == 1.0:\n",
    "        w(binary.min) << A.T.mxv(w, semiring.min_plus)\n",
    "    \n",
    "    # порог наполняемости\n",
    "    else:\n",
    "        if w.nvals / w.size > push_pull_percent:\n",
    "            w(binary.min) << A.T.mxv(w, semiring.min_plus)\n",
    "        else:\n",
    "            w(binary.min) << w.vxm(A, semiring.min_plus)\n",
    "    \n",
    "    if not w.isequal(w_old):\n",
    "        raise Exception(\"В графе есть цикл отрицательного веса\")\n",
    "        \n",
    "    '''3. Формирование ответа'''\n",
    "    return w.to_dense(fill_value=float('inf'))"
   ]
  },
  {
   "cell_type": "code",
   "execution_count": 286,
   "id": "8650c202",
   "metadata": {},
   "outputs": [],
   "source": [
    "def BellmanFordModify_push_pull(A, start_vertices, push_pull_percent=0.0):\n",
    "    '''0. Инициализация output - массива'''\n",
    "    rows = start_vertices.size\n",
    "    cols = A.ncols\n",
    "    w = Matrix(dtypes.INT32, rows, cols)\n",
    "    for i in range(rows):\n",
    "        w[i, start_vertices[i]] << 0\n",
    "        \n",
    "    '''1. Пробег по графу'''    \n",
    "    for _ in range(cols-1):\n",
    "        w_old = w.dup()\n",
    "        for i in range(rows):\n",
    "            #push\n",
    "            if push_pull_percent == 0.0:\n",
    "                w[i, :](binary.min) << w[i, :].vxm(A, semiring.min_plus)\n",
    "                \n",
    "            # pull\n",
    "            elif push_pull_percent == 1.0:\n",
    "                w[i, :](binary.min) << A.T.mxv(w[i, :], semiring.min_plus)\n",
    "                \n",
    "            # порог наполняемости\n",
    "            else:\n",
    "                if w[i, :].nvals / w[i, :].size > push_pull_percent:\n",
    "                    w[i, :](binary.min) << A.T.mxv(w[i, :], semiring.min_plus)\n",
    "                else:\n",
    "                    w[i, :](binary.min) << w[i, :].vxm(A, semiring.min_plus)\n",
    "                    \n",
    "        if w.isequal(w_old):\n",
    "            break\n",
    "            \n",
    "    '''2. Проверка отсутствия циклов отрицательного веса'''\n",
    "    w_old = w.dup()\n",
    "    for i in range(rows):\n",
    "        # push\n",
    "        if push_pull_percent == 0.0:\n",
    "            w[i, :](binary.min) << w[i, :].vxm(A, semiring.min_plus)\n",
    "            \n",
    "        # pull\n",
    "        elif push_pull_percent == 1.0:\n",
    "            w[i, :](binary.min) << A.T.mxv(w[i, :], semiring.min_plus)\n",
    "            \n",
    "        # порог наполняемости\n",
    "        else:\n",
    "            if w[i, :].nvals / w[i, :].size > push_pull_percent:\n",
    "                w[i, :](binary.min) << A.T.mxv(w[i, :], semiring.min_plus)\n",
    "            else:\n",
    "                w[i, :](binary.min) << w[i, :].vxm(A, semiring.min_plus)\n",
    "                \n",
    "    if not w.isequal(w_old):\n",
    "        raise Exception(\"В графе есть цикл отрицательного веса\")\n",
    "    \n",
    "    '''3. Формирование ответа'''\n",
    "    w_out = w.to_dense(fill_value=float('inf'))\n",
    "    output = {}\n",
    "    for i in range(rows):\n",
    "        output[start_vertices[i]] = w_out[i]\n",
    "    return output"
   ]
  },
  {
   "cell_type": "code",
   "execution_count": 288,
   "id": "7cf21cd2",
   "metadata": {},
   "outputs": [
    {
     "name": "stdout",
     "output_type": "stream",
     "text": [
      "\u001b[1mКоличество вершин: 1000, степень разреженности: 0.50, число стартовых вершин: 100\n",
      "\n",
      "\u001b[0mуровень push/pull: 0.0\n",
      "884 µs ± 108 µs per loop (mean ± std. dev. of 7 runs, 1,000 loops each)\n",
      "\n",
      "уровень push/pull: 0.1\n",
      "859 µs ± 34 µs per loop (mean ± std. dev. of 7 runs, 1,000 loops each)\n",
      "\n",
      "уровень push/pull: 0.3\n",
      "891 µs ± 39.8 µs per loop (mean ± std. dev. of 7 runs, 1,000 loops each)\n",
      "\n",
      "уровень push/pull: 0.7\n",
      "878 µs ± 97 µs per loop (mean ± std. dev. of 7 runs, 1,000 loops each)\n",
      "\n",
      "уровень push/pull: 1.0\n",
      "890 µs ± 117 µs per loop (mean ± std. dev. of 7 runs, 1,000 loops each)\n",
      "\n"
     ]
    }
   ],
   "source": [
    "# Для Bellman Ford\n",
    "num_vert, fix_raref_deg = 1000, 0.5 # фиксированные число вершин и значение степени разреженности\n",
    "generated_graph = generate_graph(num_vert, int(fix_raref_deg * num_vert * (num_vert-1)))\n",
    "num_vertices = generated_graph.shape[0]\n",
    "num_edges = len(generated_graph.to_coo()[0])\n",
    "rerefaction_deg = num_edges / (num_vertices * (num_vertices - 1))\n",
    "print(Style.BRIGHT + f'Количество вершин: {num_vertices}, степень разреженности: {rerefaction_deg:.2f}, число стартовых вершин: 100\\n')\n",
    "print(Style.RESET_ALL, end='')\n",
    "\n",
    "for i in [0.0, 0.1, 0.3, 0.7, 1.0]:  # уровень порога наполняемости (0 - пуш, 1 - пул)\n",
    "    print(f'уровень push/pull: {i}')\n",
    "    %timeit BellmanFord_push_pull(graph, np.arange(100), push_pull_percent=i) \n",
    "    print()"
   ]
  },
  {
   "cell_type": "markdown",
   "id": "6dfcdad1",
   "metadata": {},
   "source": [
    "### Комментарий:\n",
    "Видно, что время выполнения алгоритма Беллмана Форда не сильно зависит от уровня push/pull optimization. В рассмотренном случае, когда граф имеет 1000 вершин, степень разреженности = 0.5 и когда число стартовых вершин = 100, время выполнения колеблется в диапазоне от 859 до 891 микросекунды для разных уровней push/pull optimization. Чуть более лучший результат получился при уровне push/pull = 0.1, при этом еще дисперсия меньше, чем в остальных экспериментах.\n"
   ]
  },
  {
   "cell_type": "code",
   "execution_count": 289,
   "id": "6aa81841",
   "metadata": {},
   "outputs": [
    {
     "name": "stdout",
     "output_type": "stream",
     "text": [
      "\u001b[1mКоличество вершин: 1000, степень разреженности: 0.50, число стартовых вершин: 100\n",
      "\n",
      "\u001b[0mуровень push/pull: 0.0\n",
      "619 ms ± 76.9 ms per loop (mean ± std. dev. of 7 runs, 1 loop each)\n",
      "\n",
      "уровень push/pull: 0.1\n",
      "899 ms ± 109 ms per loop (mean ± std. dev. of 7 runs, 1 loop each)\n",
      "\n",
      "уровень push/pull: 0.3\n",
      "874 ms ± 115 ms per loop (mean ± std. dev. of 7 runs, 1 loop each)\n",
      "\n",
      "уровень push/pull: 0.7\n",
      "861 ms ± 92.9 ms per loop (mean ± std. dev. of 7 runs, 1 loop each)\n",
      "\n",
      "уровень push/pull: 1.0\n",
      "604 ms ± 57.9 ms per loop (mean ± std. dev. of 7 runs, 1 loop each)\n",
      "\n"
     ]
    }
   ],
   "source": [
    "# Для Bellman Ford Modify\n",
    "num_vert, fix_raref_deg = 1000, 0.5 # фиксированные число вершин и значение степени разреженности\n",
    "generated_graph = generate_graph(num_vert, int(fix_raref_deg * num_vert * (num_vert-1)))\n",
    "num_vertices = generated_graph.shape[0]\n",
    "num_edges = len(generated_graph.to_coo()[0])\n",
    "rerefaction_deg = num_edges / (num_vertices * (num_vertices - 1))\n",
    "print(Style.BRIGHT + f'Количество вершин: {num_vertices}, степень разреженности: {rerefaction_deg:.2f}, число стартовых вершин: 100\\n')\n",
    "print(Style.RESET_ALL, end='')\n",
    "\n",
    "for i in [0.0, 0.1, 0.3, 0.7, 1.0]:  # уровень порога наполняемости (0 - пуш, 1 - пул)\n",
    "    print(f'уровень push/pull: {i}')\n",
    "    %timeit BellmanFordModify_push_pull(graph, np.arange(100), push_pull_percent=i) \n",
    "    print()"
   ]
  },
  {
   "cell_type": "markdown",
   "id": "6358ad1a",
   "metadata": {},
   "source": [
    "### Комментарий:\n",
    "Видно, что время выполнения модифицированного алгоритма Беллмана Форда не сильно, но зависит от уровня push/pull optimization. В рассмотренном случае, когда граф имеет 1000 вершин, степень разреженности = 0.5 и когда число стартовых вершин = 100, время выполнения колеблется в диапазоне от 604 до 899 миллисекунд для разных уровней push/pull optimization, причем на \"краях\" наблюдаются меньшие временные значения: лучшее время показал алгоритм с уровнем 1.0 (pull) и чуть помедленнее отработал алгоритм с уровнем 0.0 (push). Таким образом, можно сделать вывод о том, что стоит применять либо стратегию push либо pull, а не какое-то промежуточное значение."
   ]
  }
 ],
 "metadata": {
  "kernelspec": {
   "display_name": "Python 3 (ipykernel)",
   "language": "python",
   "name": "python3"
  },
  "language_info": {
   "codemirror_mode": {
    "name": "ipython",
    "version": 3
   },
   "file_extension": ".py",
   "mimetype": "text/x-python",
   "name": "python",
   "nbconvert_exporter": "python",
   "pygments_lexer": "ipython3",
   "version": "3.11.5"
  },
  "varInspector": {
   "cols": {
    "lenName": 16,
    "lenType": 16,
    "lenVar": 40
   },
   "kernels_config": {
    "python": {
     "delete_cmd_postfix": "",
     "delete_cmd_prefix": "del ",
     "library": "var_list.py",
     "varRefreshCmd": "print(var_dic_list())"
    },
    "r": {
     "delete_cmd_postfix": ") ",
     "delete_cmd_prefix": "rm(",
     "library": "var_list.r",
     "varRefreshCmd": "cat(var_dic_list()) "
    }
   },
   "types_to_exclude": [
    "module",
    "function",
    "builtin_function_or_method",
    "instance",
    "_Feature"
   ],
   "window_display": false
  }
 },
 "nbformat": 4,
 "nbformat_minor": 5
}
